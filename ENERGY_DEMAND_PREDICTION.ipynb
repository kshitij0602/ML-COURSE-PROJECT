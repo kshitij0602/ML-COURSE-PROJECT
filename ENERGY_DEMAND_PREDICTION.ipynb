{
  "nbformat": 4,
  "nbformat_minor": 0,
  "metadata": {
    "colab": {
      "name": "ENERGY_DEMAND_PREDICTION.ipynb",
      "provenance": [],
      "collapsed_sections": []
    },
    "kernelspec": {
      "name": "python3",
      "display_name": "Python 3"
    },
    "language_info": {
      "name": "python"
    }
  },
  "cells": [
    {
      "cell_type": "markdown",
      "metadata": {
        "id": "Q-BoViNPZreC"
      },
      "source": [
        "#**Energy Demand prediction using SVM and Random Forest**\n",
        "\n",
        "Predicting energy budget of a building for a month\n",
        "\n",
        "............DATA REQUIRED\n",
        "- Weather data for 3 years\n",
        "- Energy consumption record of 3 years\n",
        "- Energy cost of a month"
      ]
    },
    {
      "cell_type": "code",
      "metadata": {
        "id": "fTsTKR86ZolG"
      },
      "source": [
        "# we will use the pandas library for data analysis and manipulation.\n",
        "import pandas as pd\n",
        "\n",
        "# we will use numpy for adding support for large, multi-dimensional arrays and matrices.\n",
        "import numpy as np\n",
        "\n",
        "# For data visualization, we import matplotlib\n",
        "import matplotlib.pyplot as plt\n",
        "import seaborn as sns"
      ],
      "execution_count": 1,
      "outputs": []
    },
    {
      "cell_type": "markdown",
      "metadata": {
        "id": "upnJKgxIaa03"
      },
      "source": [
        "Load the building electricity consumption data"
      ]
    },
    {
      "cell_type": "code",
      "metadata": {
        "colab": {
          "base_uri": "https://localhost:8080/",
          "height": 423
        },
        "id": "OvV7ZP4hZqiv",
        "outputId": "7532b03e-7007-4a4c-f79c-f0d2568d9917"
      },
      "source": [
        "Energy1 = pd.read_excel('/content/Building energy consumption racord.xlsx')\n",
        "Energy1"
      ],
      "execution_count": 2,
      "outputs": [
        {
          "output_type": "execute_result",
          "data": {
            "text/plain": [
              "                     Time  building 41\n",
              "0     2016-01-01 01:00:00    23.783228\n",
              "1     2016-01-01 02:00:00    23.783228\n",
              "2     2016-01-01 03:00:00    23.783228\n",
              "3     2016-01-01 04:00:00    23.783228\n",
              "4     2016-01-01 05:00:00    23.783228\n",
              "...                   ...          ...\n",
              "26298 2018-12-31 19:00:00    18.602723\n",
              "26299 2018-12-31 20:00:00    18.838200\n",
              "26300 2018-12-31 21:00:00    18.602723\n",
              "26301 2018-12-31 22:00:00    18.131768\n",
              "26302 2018-12-31 23:00:00    18.602723\n",
              "\n",
              "[26303 rows x 2 columns]"
            ],
            "text/html": [
              "\n",
              "  <div id=\"df-98a89749-0e03-4b56-bae3-cae44cf7a5dd\">\n",
              "    <div class=\"colab-df-container\">\n",
              "      <div>\n",
              "<style scoped>\n",
              "    .dataframe tbody tr th:only-of-type {\n",
              "        vertical-align: middle;\n",
              "    }\n",
              "\n",
              "    .dataframe tbody tr th {\n",
              "        vertical-align: top;\n",
              "    }\n",
              "\n",
              "    .dataframe thead th {\n",
              "        text-align: right;\n",
              "    }\n",
              "</style>\n",
              "<table border=\"1\" class=\"dataframe\">\n",
              "  <thead>\n",
              "    <tr style=\"text-align: right;\">\n",
              "      <th></th>\n",
              "      <th>Time</th>\n",
              "      <th>building 41</th>\n",
              "    </tr>\n",
              "  </thead>\n",
              "  <tbody>\n",
              "    <tr>\n",
              "      <th>0</th>\n",
              "      <td>2016-01-01 01:00:00</td>\n",
              "      <td>23.783228</td>\n",
              "    </tr>\n",
              "    <tr>\n",
              "      <th>1</th>\n",
              "      <td>2016-01-01 02:00:00</td>\n",
              "      <td>23.783228</td>\n",
              "    </tr>\n",
              "    <tr>\n",
              "      <th>2</th>\n",
              "      <td>2016-01-01 03:00:00</td>\n",
              "      <td>23.783228</td>\n",
              "    </tr>\n",
              "    <tr>\n",
              "      <th>3</th>\n",
              "      <td>2016-01-01 04:00:00</td>\n",
              "      <td>23.783228</td>\n",
              "    </tr>\n",
              "    <tr>\n",
              "      <th>4</th>\n",
              "      <td>2016-01-01 05:00:00</td>\n",
              "      <td>23.783228</td>\n",
              "    </tr>\n",
              "    <tr>\n",
              "      <th>...</th>\n",
              "      <td>...</td>\n",
              "      <td>...</td>\n",
              "    </tr>\n",
              "    <tr>\n",
              "      <th>26298</th>\n",
              "      <td>2018-12-31 19:00:00</td>\n",
              "      <td>18.602723</td>\n",
              "    </tr>\n",
              "    <tr>\n",
              "      <th>26299</th>\n",
              "      <td>2018-12-31 20:00:00</td>\n",
              "      <td>18.838200</td>\n",
              "    </tr>\n",
              "    <tr>\n",
              "      <th>26300</th>\n",
              "      <td>2018-12-31 21:00:00</td>\n",
              "      <td>18.602723</td>\n",
              "    </tr>\n",
              "    <tr>\n",
              "      <th>26301</th>\n",
              "      <td>2018-12-31 22:00:00</td>\n",
              "      <td>18.131768</td>\n",
              "    </tr>\n",
              "    <tr>\n",
              "      <th>26302</th>\n",
              "      <td>2018-12-31 23:00:00</td>\n",
              "      <td>18.602723</td>\n",
              "    </tr>\n",
              "  </tbody>\n",
              "</table>\n",
              "<p>26303 rows × 2 columns</p>\n",
              "</div>\n",
              "      <button class=\"colab-df-convert\" onclick=\"convertToInteractive('df-98a89749-0e03-4b56-bae3-cae44cf7a5dd')\"\n",
              "              title=\"Convert this dataframe to an interactive table.\"\n",
              "              style=\"display:none;\">\n",
              "        \n",
              "  <svg xmlns=\"http://www.w3.org/2000/svg\" height=\"24px\"viewBox=\"0 0 24 24\"\n",
              "       width=\"24px\">\n",
              "    <path d=\"M0 0h24v24H0V0z\" fill=\"none\"/>\n",
              "    <path d=\"M18.56 5.44l.94 2.06.94-2.06 2.06-.94-2.06-.94-.94-2.06-.94 2.06-2.06.94zm-11 1L8.5 8.5l.94-2.06 2.06-.94-2.06-.94L8.5 2.5l-.94 2.06-2.06.94zm10 10l.94 2.06.94-2.06 2.06-.94-2.06-.94-.94-2.06-.94 2.06-2.06.94z\"/><path d=\"M17.41 7.96l-1.37-1.37c-.4-.4-.92-.59-1.43-.59-.52 0-1.04.2-1.43.59L10.3 9.45l-7.72 7.72c-.78.78-.78 2.05 0 2.83L4 21.41c.39.39.9.59 1.41.59.51 0 1.02-.2 1.41-.59l7.78-7.78 2.81-2.81c.8-.78.8-2.07 0-2.86zM5.41 20L4 18.59l7.72-7.72 1.47 1.35L5.41 20z\"/>\n",
              "  </svg>\n",
              "      </button>\n",
              "      \n",
              "  <style>\n",
              "    .colab-df-container {\n",
              "      display:flex;\n",
              "      flex-wrap:wrap;\n",
              "      gap: 12px;\n",
              "    }\n",
              "\n",
              "    .colab-df-convert {\n",
              "      background-color: #E8F0FE;\n",
              "      border: none;\n",
              "      border-radius: 50%;\n",
              "      cursor: pointer;\n",
              "      display: none;\n",
              "      fill: #1967D2;\n",
              "      height: 32px;\n",
              "      padding: 0 0 0 0;\n",
              "      width: 32px;\n",
              "    }\n",
              "\n",
              "    .colab-df-convert:hover {\n",
              "      background-color: #E2EBFA;\n",
              "      box-shadow: 0px 1px 2px rgba(60, 64, 67, 0.3), 0px 1px 3px 1px rgba(60, 64, 67, 0.15);\n",
              "      fill: #174EA6;\n",
              "    }\n",
              "\n",
              "    [theme=dark] .colab-df-convert {\n",
              "      background-color: #3B4455;\n",
              "      fill: #D2E3FC;\n",
              "    }\n",
              "\n",
              "    [theme=dark] .colab-df-convert:hover {\n",
              "      background-color: #434B5C;\n",
              "      box-shadow: 0px 1px 3px 1px rgba(0, 0, 0, 0.15);\n",
              "      filter: drop-shadow(0px 1px 2px rgba(0, 0, 0, 0.3));\n",
              "      fill: #FFFFFF;\n",
              "    }\n",
              "  </style>\n",
              "\n",
              "      <script>\n",
              "        const buttonEl =\n",
              "          document.querySelector('#df-98a89749-0e03-4b56-bae3-cae44cf7a5dd button.colab-df-convert');\n",
              "        buttonEl.style.display =\n",
              "          google.colab.kernel.accessAllowed ? 'block' : 'none';\n",
              "\n",
              "        async function convertToInteractive(key) {\n",
              "          const element = document.querySelector('#df-98a89749-0e03-4b56-bae3-cae44cf7a5dd');\n",
              "          const dataTable =\n",
              "            await google.colab.kernel.invokeFunction('convertToInteractive',\n",
              "                                                     [key], {});\n",
              "          if (!dataTable) return;\n",
              "\n",
              "          const docLinkHtml = 'Like what you see? Visit the ' +\n",
              "            '<a target=\"_blank\" href=https://colab.research.google.com/notebooks/data_table.ipynb>data table notebook</a>'\n",
              "            + ' to learn more about interactive tables.';\n",
              "          element.innerHTML = '';\n",
              "          dataTable['output_type'] = 'display_data';\n",
              "          await google.colab.output.renderOutput(dataTable, element);\n",
              "          const docLink = document.createElement('div');\n",
              "          docLink.innerHTML = docLinkHtml;\n",
              "          element.appendChild(docLink);\n",
              "        }\n",
              "      </script>\n",
              "    </div>\n",
              "  </div>\n",
              "  "
            ]
          },
          "metadata": {},
          "execution_count": 2
        }
      ]
    },
    {
      "cell_type": "code",
      "metadata": {
        "colab": {
          "base_uri": "https://localhost:8080/",
          "height": 455
        },
        "id": "RF5tSV8Whs7t",
        "outputId": "8a8de76c-23b2-43b6-8632-92f4d12a2bcc"
      },
      "source": [
        "# set time column as index\n",
        "Energy = Energy1.set_index('Time')\n",
        "Energy"
      ],
      "execution_count": 3,
      "outputs": [
        {
          "output_type": "execute_result",
          "data": {
            "text/plain": [
              "                     building 41\n",
              "Time                            \n",
              "2016-01-01 01:00:00    23.783228\n",
              "2016-01-01 02:00:00    23.783228\n",
              "2016-01-01 03:00:00    23.783228\n",
              "2016-01-01 04:00:00    23.783228\n",
              "2016-01-01 05:00:00    23.783228\n",
              "...                          ...\n",
              "2018-12-31 19:00:00    18.602723\n",
              "2018-12-31 20:00:00    18.838200\n",
              "2018-12-31 21:00:00    18.602723\n",
              "2018-12-31 22:00:00    18.131768\n",
              "2018-12-31 23:00:00    18.602723\n",
              "\n",
              "[26303 rows x 1 columns]"
            ],
            "text/html": [
              "\n",
              "  <div id=\"df-bcc25a2b-cb4c-40e5-b880-14780d9cd5b1\">\n",
              "    <div class=\"colab-df-container\">\n",
              "      <div>\n",
              "<style scoped>\n",
              "    .dataframe tbody tr th:only-of-type {\n",
              "        vertical-align: middle;\n",
              "    }\n",
              "\n",
              "    .dataframe tbody tr th {\n",
              "        vertical-align: top;\n",
              "    }\n",
              "\n",
              "    .dataframe thead th {\n",
              "        text-align: right;\n",
              "    }\n",
              "</style>\n",
              "<table border=\"1\" class=\"dataframe\">\n",
              "  <thead>\n",
              "    <tr style=\"text-align: right;\">\n",
              "      <th></th>\n",
              "      <th>building 41</th>\n",
              "    </tr>\n",
              "    <tr>\n",
              "      <th>Time</th>\n",
              "      <th></th>\n",
              "    </tr>\n",
              "  </thead>\n",
              "  <tbody>\n",
              "    <tr>\n",
              "      <th>2016-01-01 01:00:00</th>\n",
              "      <td>23.783228</td>\n",
              "    </tr>\n",
              "    <tr>\n",
              "      <th>2016-01-01 02:00:00</th>\n",
              "      <td>23.783228</td>\n",
              "    </tr>\n",
              "    <tr>\n",
              "      <th>2016-01-01 03:00:00</th>\n",
              "      <td>23.783228</td>\n",
              "    </tr>\n",
              "    <tr>\n",
              "      <th>2016-01-01 04:00:00</th>\n",
              "      <td>23.783228</td>\n",
              "    </tr>\n",
              "    <tr>\n",
              "      <th>2016-01-01 05:00:00</th>\n",
              "      <td>23.783228</td>\n",
              "    </tr>\n",
              "    <tr>\n",
              "      <th>...</th>\n",
              "      <td>...</td>\n",
              "    </tr>\n",
              "    <tr>\n",
              "      <th>2018-12-31 19:00:00</th>\n",
              "      <td>18.602723</td>\n",
              "    </tr>\n",
              "    <tr>\n",
              "      <th>2018-12-31 20:00:00</th>\n",
              "      <td>18.838200</td>\n",
              "    </tr>\n",
              "    <tr>\n",
              "      <th>2018-12-31 21:00:00</th>\n",
              "      <td>18.602723</td>\n",
              "    </tr>\n",
              "    <tr>\n",
              "      <th>2018-12-31 22:00:00</th>\n",
              "      <td>18.131768</td>\n",
              "    </tr>\n",
              "    <tr>\n",
              "      <th>2018-12-31 23:00:00</th>\n",
              "      <td>18.602723</td>\n",
              "    </tr>\n",
              "  </tbody>\n",
              "</table>\n",
              "<p>26303 rows × 1 columns</p>\n",
              "</div>\n",
              "      <button class=\"colab-df-convert\" onclick=\"convertToInteractive('df-bcc25a2b-cb4c-40e5-b880-14780d9cd5b1')\"\n",
              "              title=\"Convert this dataframe to an interactive table.\"\n",
              "              style=\"display:none;\">\n",
              "        \n",
              "  <svg xmlns=\"http://www.w3.org/2000/svg\" height=\"24px\"viewBox=\"0 0 24 24\"\n",
              "       width=\"24px\">\n",
              "    <path d=\"M0 0h24v24H0V0z\" fill=\"none\"/>\n",
              "    <path d=\"M18.56 5.44l.94 2.06.94-2.06 2.06-.94-2.06-.94-.94-2.06-.94 2.06-2.06.94zm-11 1L8.5 8.5l.94-2.06 2.06-.94-2.06-.94L8.5 2.5l-.94 2.06-2.06.94zm10 10l.94 2.06.94-2.06 2.06-.94-2.06-.94-.94-2.06-.94 2.06-2.06.94z\"/><path d=\"M17.41 7.96l-1.37-1.37c-.4-.4-.92-.59-1.43-.59-.52 0-1.04.2-1.43.59L10.3 9.45l-7.72 7.72c-.78.78-.78 2.05 0 2.83L4 21.41c.39.39.9.59 1.41.59.51 0 1.02-.2 1.41-.59l7.78-7.78 2.81-2.81c.8-.78.8-2.07 0-2.86zM5.41 20L4 18.59l7.72-7.72 1.47 1.35L5.41 20z\"/>\n",
              "  </svg>\n",
              "      </button>\n",
              "      \n",
              "  <style>\n",
              "    .colab-df-container {\n",
              "      display:flex;\n",
              "      flex-wrap:wrap;\n",
              "      gap: 12px;\n",
              "    }\n",
              "\n",
              "    .colab-df-convert {\n",
              "      background-color: #E8F0FE;\n",
              "      border: none;\n",
              "      border-radius: 50%;\n",
              "      cursor: pointer;\n",
              "      display: none;\n",
              "      fill: #1967D2;\n",
              "      height: 32px;\n",
              "      padding: 0 0 0 0;\n",
              "      width: 32px;\n",
              "    }\n",
              "\n",
              "    .colab-df-convert:hover {\n",
              "      background-color: #E2EBFA;\n",
              "      box-shadow: 0px 1px 2px rgba(60, 64, 67, 0.3), 0px 1px 3px 1px rgba(60, 64, 67, 0.15);\n",
              "      fill: #174EA6;\n",
              "    }\n",
              "\n",
              "    [theme=dark] .colab-df-convert {\n",
              "      background-color: #3B4455;\n",
              "      fill: #D2E3FC;\n",
              "    }\n",
              "\n",
              "    [theme=dark] .colab-df-convert:hover {\n",
              "      background-color: #434B5C;\n",
              "      box-shadow: 0px 1px 3px 1px rgba(0, 0, 0, 0.15);\n",
              "      filter: drop-shadow(0px 1px 2px rgba(0, 0, 0, 0.3));\n",
              "      fill: #FFFFFF;\n",
              "    }\n",
              "  </style>\n",
              "\n",
              "      <script>\n",
              "        const buttonEl =\n",
              "          document.querySelector('#df-bcc25a2b-cb4c-40e5-b880-14780d9cd5b1 button.colab-df-convert');\n",
              "        buttonEl.style.display =\n",
              "          google.colab.kernel.accessAllowed ? 'block' : 'none';\n",
              "\n",
              "        async function convertToInteractive(key) {\n",
              "          const element = document.querySelector('#df-bcc25a2b-cb4c-40e5-b880-14780d9cd5b1');\n",
              "          const dataTable =\n",
              "            await google.colab.kernel.invokeFunction('convertToInteractive',\n",
              "                                                     [key], {});\n",
              "          if (!dataTable) return;\n",
              "\n",
              "          const docLinkHtml = 'Like what you see? Visit the ' +\n",
              "            '<a target=\"_blank\" href=https://colab.research.google.com/notebooks/data_table.ipynb>data table notebook</a>'\n",
              "            + ' to learn more about interactive tables.';\n",
              "          element.innerHTML = '';\n",
              "          dataTable['output_type'] = 'display_data';\n",
              "          await google.colab.output.renderOutput(dataTable, element);\n",
              "          const docLink = document.createElement('div');\n",
              "          docLink.innerHTML = docLinkHtml;\n",
              "          element.appendChild(docLink);\n",
              "        }\n",
              "      </script>\n",
              "    </div>\n",
              "  </div>\n",
              "  "
            ]
          },
          "metadata": {},
          "execution_count": 3
        }
      ]
    },
    {
      "cell_type": "code",
      "metadata": {
        "colab": {
          "base_uri": "https://localhost:8080/",
          "height": 300
        },
        "id": "4gyq0VRpjAo_",
        "outputId": "2ba1ca5d-1c18-450d-9d85-5d46159324a0"
      },
      "source": [
        "# Checking the description of the data\n",
        "Energy.describe()"
      ],
      "execution_count": 4,
      "outputs": [
        {
          "output_type": "execute_result",
          "data": {
            "text/plain": [
              "        building 41\n",
              "count  26303.000000\n",
              "mean      25.694969\n",
              "std        6.317738\n",
              "min       15.541515\n",
              "25%       20.957498\n",
              "50%       23.783228\n",
              "75%       28.728255\n",
              "max       59.340330"
            ],
            "text/html": [
              "\n",
              "  <div id=\"df-e0e8cd43-bfa8-4b1c-b9f9-270b6ba481bd\">\n",
              "    <div class=\"colab-df-container\">\n",
              "      <div>\n",
              "<style scoped>\n",
              "    .dataframe tbody tr th:only-of-type {\n",
              "        vertical-align: middle;\n",
              "    }\n",
              "\n",
              "    .dataframe tbody tr th {\n",
              "        vertical-align: top;\n",
              "    }\n",
              "\n",
              "    .dataframe thead th {\n",
              "        text-align: right;\n",
              "    }\n",
              "</style>\n",
              "<table border=\"1\" class=\"dataframe\">\n",
              "  <thead>\n",
              "    <tr style=\"text-align: right;\">\n",
              "      <th></th>\n",
              "      <th>building 41</th>\n",
              "    </tr>\n",
              "  </thead>\n",
              "  <tbody>\n",
              "    <tr>\n",
              "      <th>count</th>\n",
              "      <td>26303.000000</td>\n",
              "    </tr>\n",
              "    <tr>\n",
              "      <th>mean</th>\n",
              "      <td>25.694969</td>\n",
              "    </tr>\n",
              "    <tr>\n",
              "      <th>std</th>\n",
              "      <td>6.317738</td>\n",
              "    </tr>\n",
              "    <tr>\n",
              "      <th>min</th>\n",
              "      <td>15.541515</td>\n",
              "    </tr>\n",
              "    <tr>\n",
              "      <th>25%</th>\n",
              "      <td>20.957498</td>\n",
              "    </tr>\n",
              "    <tr>\n",
              "      <th>50%</th>\n",
              "      <td>23.783228</td>\n",
              "    </tr>\n",
              "    <tr>\n",
              "      <th>75%</th>\n",
              "      <td>28.728255</td>\n",
              "    </tr>\n",
              "    <tr>\n",
              "      <th>max</th>\n",
              "      <td>59.340330</td>\n",
              "    </tr>\n",
              "  </tbody>\n",
              "</table>\n",
              "</div>\n",
              "      <button class=\"colab-df-convert\" onclick=\"convertToInteractive('df-e0e8cd43-bfa8-4b1c-b9f9-270b6ba481bd')\"\n",
              "              title=\"Convert this dataframe to an interactive table.\"\n",
              "              style=\"display:none;\">\n",
              "        \n",
              "  <svg xmlns=\"http://www.w3.org/2000/svg\" height=\"24px\"viewBox=\"0 0 24 24\"\n",
              "       width=\"24px\">\n",
              "    <path d=\"M0 0h24v24H0V0z\" fill=\"none\"/>\n",
              "    <path d=\"M18.56 5.44l.94 2.06.94-2.06 2.06-.94-2.06-.94-.94-2.06-.94 2.06-2.06.94zm-11 1L8.5 8.5l.94-2.06 2.06-.94-2.06-.94L8.5 2.5l-.94 2.06-2.06.94zm10 10l.94 2.06.94-2.06 2.06-.94-2.06-.94-.94-2.06-.94 2.06-2.06.94z\"/><path d=\"M17.41 7.96l-1.37-1.37c-.4-.4-.92-.59-1.43-.59-.52 0-1.04.2-1.43.59L10.3 9.45l-7.72 7.72c-.78.78-.78 2.05 0 2.83L4 21.41c.39.39.9.59 1.41.59.51 0 1.02-.2 1.41-.59l7.78-7.78 2.81-2.81c.8-.78.8-2.07 0-2.86zM5.41 20L4 18.59l7.72-7.72 1.47 1.35L5.41 20z\"/>\n",
              "  </svg>\n",
              "      </button>\n",
              "      \n",
              "  <style>\n",
              "    .colab-df-container {\n",
              "      display:flex;\n",
              "      flex-wrap:wrap;\n",
              "      gap: 12px;\n",
              "    }\n",
              "\n",
              "    .colab-df-convert {\n",
              "      background-color: #E8F0FE;\n",
              "      border: none;\n",
              "      border-radius: 50%;\n",
              "      cursor: pointer;\n",
              "      display: none;\n",
              "      fill: #1967D2;\n",
              "      height: 32px;\n",
              "      padding: 0 0 0 0;\n",
              "      width: 32px;\n",
              "    }\n",
              "\n",
              "    .colab-df-convert:hover {\n",
              "      background-color: #E2EBFA;\n",
              "      box-shadow: 0px 1px 2px rgba(60, 64, 67, 0.3), 0px 1px 3px 1px rgba(60, 64, 67, 0.15);\n",
              "      fill: #174EA6;\n",
              "    }\n",
              "\n",
              "    [theme=dark] .colab-df-convert {\n",
              "      background-color: #3B4455;\n",
              "      fill: #D2E3FC;\n",
              "    }\n",
              "\n",
              "    [theme=dark] .colab-df-convert:hover {\n",
              "      background-color: #434B5C;\n",
              "      box-shadow: 0px 1px 3px 1px rgba(0, 0, 0, 0.15);\n",
              "      filter: drop-shadow(0px 1px 2px rgba(0, 0, 0, 0.3));\n",
              "      fill: #FFFFFF;\n",
              "    }\n",
              "  </style>\n",
              "\n",
              "      <script>\n",
              "        const buttonEl =\n",
              "          document.querySelector('#df-e0e8cd43-bfa8-4b1c-b9f9-270b6ba481bd button.colab-df-convert');\n",
              "        buttonEl.style.display =\n",
              "          google.colab.kernel.accessAllowed ? 'block' : 'none';\n",
              "\n",
              "        async function convertToInteractive(key) {\n",
              "          const element = document.querySelector('#df-e0e8cd43-bfa8-4b1c-b9f9-270b6ba481bd');\n",
              "          const dataTable =\n",
              "            await google.colab.kernel.invokeFunction('convertToInteractive',\n",
              "                                                     [key], {});\n",
              "          if (!dataTable) return;\n",
              "\n",
              "          const docLinkHtml = 'Like what you see? Visit the ' +\n",
              "            '<a target=\"_blank\" href=https://colab.research.google.com/notebooks/data_table.ipynb>data table notebook</a>'\n",
              "            + ' to learn more about interactive tables.';\n",
              "          element.innerHTML = '';\n",
              "          dataTable['output_type'] = 'display_data';\n",
              "          await google.colab.output.renderOutput(dataTable, element);\n",
              "          const docLink = document.createElement('div');\n",
              "          docLink.innerHTML = docLinkHtml;\n",
              "          element.appendChild(docLink);\n",
              "        }\n",
              "      </script>\n",
              "    </div>\n",
              "  </div>\n",
              "  "
            ]
          },
          "metadata": {},
          "execution_count": 4
        }
      ]
    },
    {
      "cell_type": "code",
      "metadata": {
        "colab": {
          "base_uri": "https://localhost:8080/",
          "height": 265
        },
        "id": "mWQvrX9cPEWq",
        "outputId": "802e46bb-b3f0-4fc3-f657-e9e53066a64d"
      },
      "source": [
        "plt.boxplot(Energy['building 41'])\n",
        "plt.show()"
      ],
      "execution_count": 5,
      "outputs": [
        {
          "output_type": "display_data",
          "data": {
            "text/plain": [
              "<Figure size 432x288 with 1 Axes>"
            ],
            "image/png": "[encoded data removed]"
          },
          "metadata": {
            "needs_background": "light"
          }
        }
      ]
    },
    {
      "cell_type": "code",
      "metadata": {
        "colab": {
          "base_uri": "https://localhost:8080/",
          "height": 423
        },
        "id": "_k3u1K5pjCft",
        "outputId": "691b76e3-e822-4d0f-c06d-901756ef12bd"
      },
      "source": [
        "#Load the Weather data from the excel file\n",
        "Path= \"/content/WeatherData.xlsx\"\n",
        "knmi= pd.read_excel(Path)\n",
        "knmi"
      ],
      "execution_count": 6,
      "outputs": [
        {
          "output_type": "execute_result",
          "data": {
            "text/plain": [
              "                     Time  month  HH  TD   U  Temp    RH  Q  DR  FF  FX      P\n",
              "0     2016-01-01 01:00:00      1   1  38  82   6.6  0.82  0   0  30  70  10224\n",
              "1     2016-01-01 02:00:00      1   2  43  83   7.0  0.83  0   0  40  80  10228\n",
              "2     2016-01-01 03:00:00      1   3  46  91   5.9  0.91  0   0  30  80  10232\n",
              "3     2016-01-01 04:00:00      1   4  36  96   4.2  0.96  0   0  20  40  10237\n",
              "4     2016-01-01 05:00:00      1   5  37  98   4.0  0.98  0   0  20  30  10240\n",
              "...                   ...    ...  ..  ..  ..   ...   ... ..  ..  ..  ..    ...\n",
              "26298 2018-12-31 19:00:00     12  19  78  93   8.7  0.93  0   0  30  60  10341\n",
              "26299 2018-12-31 20:00:00     12  20  74  92   8.5  0.92  0   0  30  50  10338\n",
              "26300 2018-12-31 21:00:00     12  21  66  89   8.2  0.89  0   0  40  60  10336\n",
              "26301 2018-12-31 22:00:00     12  22  68  94   7.6  0.94  0   0  40  70  10332\n",
              "26302 2018-12-31 23:00:00     12  23  67  94   7.6  0.94  0   7  40  60  10333\n",
              "\n",
              "[26303 rows x 12 columns]"
            ],
            "text/html": [
              "\n",
              "  <div id=\"df-f9e9881f-be30-4d83-a186-5dfe674fa0a5\">\n",
              "    <div class=\"colab-df-container\">\n",
              "      <div>\n",
              "<style scoped>\n",
              "    .dataframe tbody tr th:only-of-type {\n",
              "        vertical-align: middle;\n",
              "    }\n",
              "\n",
              "    .dataframe tbody tr th {\n",
              "        vertical-align: top;\n",
              "    }\n",
              "\n",
              "    .dataframe thead th {\n",
              "        text-align: right;\n",
              "    }\n",
              "</style>\n",
              "<table border=\"1\" class=\"dataframe\">\n",
              "  <thead>\n",
              "    <tr style=\"text-align: right;\">\n",
              "      <th></th>\n",
              "      <th>Time</th>\n",
              "      <th>month</th>\n",
              "      <th>HH</th>\n",
              "      <th>TD</th>\n",
              "      <th>U</th>\n",
              "      <th>Temp</th>\n",
              "      <th>RH</th>\n",
              "      <th>Q</th>\n",
              "      <th>DR</th>\n",
              "      <th>FF</th>\n",
              "      <th>FX</th>\n",
              "      <th>P</th>\n",
              "    </tr>\n",
              "  </thead>\n",
              "  <tbody>\n",
              "    <tr>\n",
              "      <th>0</th>\n",
              "      <td>2016-01-01 01:00:00</td>\n",
              "      <td>1</td>\n",
              "      <td>1</td>\n",
              "      <td>38</td>\n",
              "      <td>82</td>\n",
              "      <td>6.6</td>\n",
              "      <td>0.82</td>\n",
              "      <td>0</td>\n",
              "      <td>0</td>\n",
              "      <td>30</td>\n",
              "      <td>70</td>\n",
              "      <td>10224</td>\n",
              "    </tr>\n",
              "    <tr>\n",
              "      <th>1</th>\n",
              "      <td>2016-01-01 02:00:00</td>\n",
              "      <td>1</td>\n",
              "      <td>2</td>\n",
              "      <td>43</td>\n",
              "      <td>83</td>\n",
              "      <td>7.0</td>\n",
              "      <td>0.83</td>\n",
              "      <td>0</td>\n",
              "      <td>0</td>\n",
              "      <td>40</td>\n",
              "      <td>80</td>\n",
              "      <td>10228</td>\n",
              "    </tr>\n",
              "    <tr>\n",
              "      <th>2</th>\n",
              "      <td>2016-01-01 03:00:00</td>\n",
              "      <td>1</td>\n",
              "      <td>3</td>\n",
              "      <td>46</td>\n",
              "      <td>91</td>\n",
              "      <td>5.9</td>\n",
              "      <td>0.91</td>\n",
              "      <td>0</td>\n",
              "      <td>0</td>\n",
              "      <td>30</td>\n",
              "      <td>80</td>\n",
              "      <td>10232</td>\n",
              "    </tr>\n",
              "    <tr>\n",
              "      <th>3</th>\n",
              "      <td>2016-01-01 04:00:00</td>\n",
              "      <td>1</td>\n",
              "      <td>4</td>\n",
              "      <td>36</td>\n",
              "      <td>96</td>\n",
              "      <td>4.2</td>\n",
              "      <td>0.96</td>\n",
              "      <td>0</td>\n",
              "      <td>0</td>\n",
              "      <td>20</td>\n",
              "      <td>40</td>\n",
              "      <td>10237</td>\n",
              "    </tr>\n",
              "    <tr>\n",
              "      <th>4</th>\n",
              "      <td>2016-01-01 05:00:00</td>\n",
              "      <td>1</td>\n",
              "      <td>5</td>\n",
              "      <td>37</td>\n",
              "      <td>98</td>\n",
              "      <td>4.0</td>\n",
              "      <td>0.98</td>\n",
              "      <td>0</td>\n",
              "      <td>0</td>\n",
              "      <td>20</td>\n",
              "      <td>30</td>\n",
              "      <td>10240</td>\n",
              "    </tr>\n",
              "    <tr>\n",
              "      <th>...</th>\n",
              "      <td>...</td>\n",
              "      <td>...</td>\n",
              "      <td>...</td>\n",
              "      <td>...</td>\n",
              "      <td>...</td>\n",
              "      <td>...</td>\n",
              "      <td>...</td>\n",
              "      <td>...</td>\n",
              "      <td>...</td>\n",
              "      <td>...</td>\n",
              "      <td>...</td>\n",
              "      <td>...</td>\n",
              "    </tr>\n",
              "    <tr>\n",
              "      <th>26298</th>\n",
              "      <td>2018-12-31 19:00:00</td>\n",
              "      <td>12</td>\n",
              "      <td>19</td>\n",
              "      <td>78</td>\n",
              "      <td>93</td>\n",
              "      <td>8.7</td>\n",
              "      <td>0.93</td>\n",
              "      <td>0</td>\n",
              "      <td>0</td>\n",
              "      <td>30</td>\n",
              "      <td>60</td>\n",
              "      <td>10341</td>\n",
              "    </tr>\n",
              "    <tr>\n",
              "      <th>26299</th>\n",
              "      <td>2018-12-31 20:00:00</td>\n",
              "      <td>12</td>\n",
              "      <td>20</td>\n",
              "      <td>74</td>\n",
              "      <td>92</td>\n",
              "      <td>8.5</td>\n",
              "      <td>0.92</td>\n",
              "      <td>0</td>\n",
              "      <td>0</td>\n",
              "      <td>30</td>\n",
              "      <td>50</td>\n",
              "      <td>10338</td>\n",
              "    </tr>\n",
              "    <tr>\n",
              "      <th>26300</th>\n",
              "      <td>2018-12-31 21:00:00</td>\n",
              "      <td>12</td>\n",
              "      <td>21</td>\n",
              "      <td>66</td>\n",
              "      <td>89</td>\n",
              "      <td>8.2</td>\n",
              "      <td>0.89</td>\n",
              "      <td>0</td>\n",
              "      <td>0</td>\n",
              "      <td>40</td>\n",
              "      <td>60</td>\n",
              "      <td>10336</td>\n",
              "    </tr>\n",
              "    <tr>\n",
              "      <th>26301</th>\n",
              "      <td>2018-12-31 22:00:00</td>\n",
              "      <td>12</td>\n",
              "      <td>22</td>\n",
              "      <td>68</td>\n",
              "      <td>94</td>\n",
              "      <td>7.6</td>\n",
              "      <td>0.94</td>\n",
              "      <td>0</td>\n",
              "      <td>0</td>\n",
              "      <td>40</td>\n",
              "      <td>70</td>\n",
              "      <td>10332</td>\n",
              "    </tr>\n",
              "    <tr>\n",
              "      <th>26302</th>\n",
              "      <td>2018-12-31 23:00:00</td>\n",
              "      <td>12</td>\n",
              "      <td>23</td>\n",
              "      <td>67</td>\n",
              "      <td>94</td>\n",
              "      <td>7.6</td>\n",
              "      <td>0.94</td>\n",
              "      <td>0</td>\n",
              "      <td>7</td>\n",
              "      <td>40</td>\n",
              "      <td>60</td>\n",
              "      <td>10333</td>\n",
              "    </tr>\n",
              "  </tbody>\n",
              "</table>\n",
              "<p>26303 rows × 12 columns</p>\n",
              "</div>\n",
              "      <button class=\"colab-df-convert\" onclick=\"convertToInteractive('df-f9e9881f-be30-4d83-a186-5dfe674fa0a5')\"\n",
              "              title=\"Convert this dataframe to an interactive table.\"\n",
              "              style=\"display:none;\">\n",
              "        \n",
              "  <svg xmlns=\"http://www.w3.org/2000/svg\" height=\"24px\"viewBox=\"0 0 24 24\"\n",
              "       width=\"24px\">\n",
              "    <path d=\"M0 0h24v24H0V0z\" fill=\"none\"/>\n",
              "    <path d=\"M18.56 5.44l.94 2.06.94-2.06 2.06-.94-2.06-.94-.94-2.06-.94 2.06-2.06.94zm-11 1L8.5 8.5l.94-2.06 2.06-.94-2.06-.94L8.5 2.5l-.94 2.06-2.06.94zm10 10l.94 2.06.94-2.06 2.06-.94-2.06-.94-.94-2.06-.94 2.06-2.06.94z\"/><path d=\"M17.41 7.96l-1.37-1.37c-.4-.4-.92-.59-1.43-.59-.52 0-1.04.2-1.43.59L10.3 9.45l-7.72 7.72c-.78.78-.78 2.05 0 2.83L4 21.41c.39.39.9.59 1.41.59.51 0 1.02-.2 1.41-.59l7.78-7.78 2.81-2.81c.8-.78.8-2.07 0-2.86zM5.41 20L4 18.59l7.72-7.72 1.47 1.35L5.41 20z\"/>\n",
              "  </svg>\n",
              "      </button>\n",
              "      \n",
              "  <style>\n",
              "    .colab-df-container {\n",
              "      display:flex;\n",
              "      flex-wrap:wrap;\n",
              "      gap: 12px;\n",
              "    }\n",
              "\n",
              "    .colab-df-convert {\n",
              "      background-color: #E8F0FE;\n",
              "      border: none;\n",
              "      border-radius: 50%;\n",
              "      cursor: pointer;\n",
              "      display: none;\n",
              "      fill: #1967D2;\n",
              "      height: 32px;\n",
              "      padding: 0 0 0 0;\n",
              "      width: 32px;\n",
              "    }\n",
              "\n",
              "    .colab-df-convert:hover {\n",
              "      background-color: #E2EBFA;\n",
              "      box-shadow: 0px 1px 2px rgba(60, 64, 67, 0.3), 0px 1px 3px 1px rgba(60, 64, 67, 0.15);\n",
              "      fill: #174EA6;\n",
              "    }\n",
              "\n",
              "    [theme=dark] .colab-df-convert {\n",
              "      background-color: #3B4455;\n",
              "      fill: #D2E3FC;\n",
              "    }\n",
              "\n",
              "    [theme=dark] .colab-df-convert:hover {\n",
              "      background-color: #434B5C;\n",
              "      box-shadow: 0px 1px 3px 1px rgba(0, 0, 0, 0.15);\n",
              "      filter: drop-shadow(0px 1px 2px rgba(0, 0, 0, 0.3));\n",
              "      fill: #FFFFFF;\n",
              "    }\n",
              "  </style>\n",
              "\n",
              "      <script>\n",
              "        const buttonEl =\n",
              "          document.querySelector('#df-f9e9881f-be30-4d83-a186-5dfe674fa0a5 button.colab-df-convert');\n",
              "        buttonEl.style.display =\n",
              "          google.colab.kernel.accessAllowed ? 'block' : 'none';\n",
              "\n",
              "        async function convertToInteractive(key) {\n",
              "          const element = document.querySelector('#df-f9e9881f-be30-4d83-a186-5dfe674fa0a5');\n",
              "          const dataTable =\n",
              "            await google.colab.kernel.invokeFunction('convertToInteractive',\n",
              "                                                     [key], {});\n",
              "          if (!dataTable) return;\n",
              "\n",
              "          const docLinkHtml = 'Like what you see? Visit the ' +\n",
              "            '<a target=\"_blank\" href=https://colab.research.google.com/notebooks/data_table.ipynb>data table notebook</a>'\n",
              "            + ' to learn more about interactive tables.';\n",
              "          element.innerHTML = '';\n",
              "          dataTable['output_type'] = 'display_data';\n",
              "          await google.colab.output.renderOutput(dataTable, element);\n",
              "          const docLink = document.createElement('div');\n",
              "          docLink.innerHTML = docLinkHtml;\n",
              "          element.appendChild(docLink);\n",
              "        }\n",
              "      </script>\n",
              "    </div>\n",
              "  </div>\n",
              "  "
            ]
          },
          "metadata": {},
          "execution_count": 6
        }
      ]
    },
    {
      "cell_type": "code",
      "metadata": {
        "colab": {
          "base_uri": "https://localhost:8080/",
          "height": 455
        },
        "id": "xznhgX88jCbg",
        "outputId": "76b834d3-66e7-46dc-c124-ce35df86a6ea"
      },
      "source": [
        "#Set the Time column as index\n",
        "knmi = knmi.set_index(\"Time\")\n",
        "knmi"
      ],
      "execution_count": 7,
      "outputs": [
        {
          "output_type": "execute_result",
          "data": {
            "text/plain": [
              "                     month  HH  TD   U  Temp    RH  Q  DR  FF  FX      P\n",
              "Time                                                                    \n",
              "2016-01-01 01:00:00      1   1  38  82   6.6  0.82  0   0  30  70  10224\n",
              "2016-01-01 02:00:00      1   2  43  83   7.0  0.83  0   0  40  80  10228\n",
              "2016-01-01 03:00:00      1   3  46  91   5.9  0.91  0   0  30  80  10232\n",
              "2016-01-01 04:00:00      1   4  36  96   4.2  0.96  0   0  20  40  10237\n",
              "2016-01-01 05:00:00      1   5  37  98   4.0  0.98  0   0  20  30  10240\n",
              "...                    ...  ..  ..  ..   ...   ... ..  ..  ..  ..    ...\n",
              "2018-12-31 19:00:00     12  19  78  93   8.7  0.93  0   0  30  60  10341\n",
              "2018-12-31 20:00:00     12  20  74  92   8.5  0.92  0   0  30  50  10338\n",
              "2018-12-31 21:00:00     12  21  66  89   8.2  0.89  0   0  40  60  10336\n",
              "2018-12-31 22:00:00     12  22  68  94   7.6  0.94  0   0  40  70  10332\n",
              "2018-12-31 23:00:00     12  23  67  94   7.6  0.94  0   7  40  60  10333\n",
              "\n",
              "[26303 rows x 11 columns]"
            ],
            "text/html": [
              "\n",
              "  <div id=\"df-cabbdc19-59ed-4af9-84ec-0bec298b48e3\">\n",
              "    <div class=\"colab-df-container\">\n",
              "      <div>\n",
              "<style scoped>\n",
              "    .dataframe tbody tr th:only-of-type {\n",
              "        vertical-align: middle;\n",
              "    }\n",
              "\n",
              "    .dataframe tbody tr th {\n",
              "        vertical-align: top;\n",
              "    }\n",
              "\n",
              "    .dataframe thead th {\n",
              "        text-align: right;\n",
              "    }\n",
              "</style>\n",
              "<table border=\"1\" class=\"dataframe\">\n",
              "  <thead>\n",
              "    <tr style=\"text-align: right;\">\n",
              "      <th></th>\n",
              "      <th>month</th>\n",
              "      <th>HH</th>\n",
              "      <th>TD</th>\n",
              "      <th>U</th>\n",
              "      <th>Temp</th>\n",
              "      <th>RH</th>\n",
              "      <th>Q</th>\n",
              "      <th>DR</th>\n",
              "      <th>FF</th>\n",
              "      <th>FX</th>\n",
              "      <th>P</th>\n",
              "    </tr>\n",
              "    <tr>\n",
              "      <th>Time</th>\n",
              "      <th></th>\n",
              "      <th></th>\n",
              "      <th></th>\n",
              "      <th></th>\n",
              "      <th></th>\n",
              "      <th></th>\n",
              "      <th></th>\n",
              "      <th></th>\n",
              "      <th></th>\n",
              "      <th></th>\n",
              "      <th></th>\n",
              "    </tr>\n",
              "  </thead>\n",
              "  <tbody>\n",
              "    <tr>\n",
              "      <th>2016-01-01 01:00:00</th>\n",
              "      <td>1</td>\n",
              "      <td>1</td>\n",
              "      <td>38</td>\n",
              "      <td>82</td>\n",
              "      <td>6.6</td>\n",
              "      <td>0.82</td>\n",
              "      <td>0</td>\n",
              "      <td>0</td>\n",
              "      <td>30</td>\n",
              "      <td>70</td>\n",
              "      <td>10224</td>\n",
              "    </tr>\n",
              "    <tr>\n",
              "      <th>2016-01-01 02:00:00</th>\n",
              "      <td>1</td>\n",
              "      <td>2</td>\n",
              "      <td>43</td>\n",
              "      <td>83</td>\n",
              "      <td>7.0</td>\n",
              "      <td>0.83</td>\n",
              "      <td>0</td>\n",
              "      <td>0</td>\n",
              "      <td>40</td>\n",
              "      <td>80</td>\n",
              "      <td>10228</td>\n",
              "    </tr>\n",
              "    <tr>\n",
              "      <th>2016-01-01 03:00:00</th>\n",
              "      <td>1</td>\n",
              "      <td>3</td>\n",
              "      <td>46</td>\n",
              "      <td>91</td>\n",
              "      <td>5.9</td>\n",
              "      <td>0.91</td>\n",
              "      <td>0</td>\n",
              "      <td>0</td>\n",
              "      <td>30</td>\n",
              "      <td>80</td>\n",
              "      <td>10232</td>\n",
              "    </tr>\n",
              "    <tr>\n",
              "      <th>2016-01-01 04:00:00</th>\n",
              "      <td>1</td>\n",
              "      <td>4</td>\n",
              "      <td>36</td>\n",
              "      <td>96</td>\n",
              "      <td>4.2</td>\n",
              "      <td>0.96</td>\n",
              "      <td>0</td>\n",
              "      <td>0</td>\n",
              "      <td>20</td>\n",
              "      <td>40</td>\n",
              "      <td>10237</td>\n",
              "    </tr>\n",
              "    <tr>\n",
              "      <th>2016-01-01 05:00:00</th>\n",
              "      <td>1</td>\n",
              "      <td>5</td>\n",
              "      <td>37</td>\n",
              "      <td>98</td>\n",
              "      <td>4.0</td>\n",
              "      <td>0.98</td>\n",
              "      <td>0</td>\n",
              "      <td>0</td>\n",
              "      <td>20</td>\n",
              "      <td>30</td>\n",
              "      <td>10240</td>\n",
              "    </tr>\n",
              "    <tr>\n",
              "      <th>...</th>\n",
              "      <td>...</td>\n",
              "      <td>...</td>\n",
              "      <td>...</td>\n",
              "      <td>...</td>\n",
              "      <td>...</td>\n",
              "      <td>...</td>\n",
              "      <td>...</td>\n",
              "      <td>...</td>\n",
              "      <td>...</td>\n",
              "      <td>...</td>\n",
              "      <td>...</td>\n",
              "    </tr>\n",
              "    <tr>\n",
              "      <th>2018-12-31 19:00:00</th>\n",
              "      <td>12</td>\n",
              "      <td>19</td>\n",
              "      <td>78</td>\n",
              "      <td>93</td>\n",
              "      <td>8.7</td>\n",
              "      <td>0.93</td>\n",
              "      <td>0</td>\n",
              "      <td>0</td>\n",
              "      <td>30</td>\n",
              "      <td>60</td>\n",
              "      <td>10341</td>\n",
              "    </tr>\n",
              "    <tr>\n",
              "      <th>2018-12-31 20:00:00</th>\n",
              "      <td>12</td>\n",
              "      <td>20</td>\n",
              "      <td>74</td>\n",
              "      <td>92</td>\n",
              "      <td>8.5</td>\n",
              "      <td>0.92</td>\n",
              "      <td>0</td>\n",
              "      <td>0</td>\n",
              "      <td>30</td>\n",
              "      <td>50</td>\n",
              "      <td>10338</td>\n",
              "    </tr>\n",
              "    <tr>\n",
              "      <th>2018-12-31 21:00:00</th>\n",
              "      <td>12</td>\n",
              "      <td>21</td>\n",
              "      <td>66</td>\n",
              "      <td>89</td>\n",
              "      <td>8.2</td>\n",
              "      <td>0.89</td>\n",
              "      <td>0</td>\n",
              "      <td>0</td>\n",
              "      <td>40</td>\n",
              "      <td>60</td>\n",
              "      <td>10336</td>\n",
              "    </tr>\n",
              "    <tr>\n",
              "      <th>2018-12-31 22:00:00</th>\n",
              "      <td>12</td>\n",
              "      <td>22</td>\n",
              "      <td>68</td>\n",
              "      <td>94</td>\n",
              "      <td>7.6</td>\n",
              "      <td>0.94</td>\n",
              "      <td>0</td>\n",
              "      <td>0</td>\n",
              "      <td>40</td>\n",
              "      <td>70</td>\n",
              "      <td>10332</td>\n",
              "    </tr>\n",
              "    <tr>\n",
              "      <th>2018-12-31 23:00:00</th>\n",
              "      <td>12</td>\n",
              "      <td>23</td>\n",
              "      <td>67</td>\n",
              "      <td>94</td>\n",
              "      <td>7.6</td>\n",
              "      <td>0.94</td>\n",
              "      <td>0</td>\n",
              "      <td>7</td>\n",
              "      <td>40</td>\n",
              "      <td>60</td>\n",
              "      <td>10333</td>\n",
              "    </tr>\n",
              "  </tbody>\n",
              "</table>\n",
              "<p>26303 rows × 11 columns</p>\n",
              "</div>\n",
              "      <button class=\"colab-df-convert\" onclick=\"convertToInteractive('df-cabbdc19-59ed-4af9-84ec-0bec298b48e3')\"\n",
              "              title=\"Convert this dataframe to an interactive table.\"\n",
              "              style=\"display:none;\">\n",
              "        \n",
              "  <svg xmlns=\"http://www.w3.org/2000/svg\" height=\"24px\"viewBox=\"0 0 24 24\"\n",
              "       width=\"24px\">\n",
              "    <path d=\"M0 0h24v24H0V0z\" fill=\"none\"/>\n",
              "    <path d=\"M18.56 5.44l.94 2.06.94-2.06 2.06-.94-2.06-.94-.94-2.06-.94 2.06-2.06.94zm-11 1L8.5 8.5l.94-2.06 2.06-.94-2.06-.94L8.5 2.5l-.94 2.06-2.06.94zm10 10l.94 2.06.94-2.06 2.06-.94-2.06-.94-.94-2.06-.94 2.06-2.06.94z\"/><path d=\"M17.41 7.96l-1.37-1.37c-.4-.4-.92-.59-1.43-.59-.52 0-1.04.2-1.43.59L10.3 9.45l-7.72 7.72c-.78.78-.78 2.05 0 2.83L4 21.41c.39.39.9.59 1.41.59.51 0 1.02-.2 1.41-.59l7.78-7.78 2.81-2.81c.8-.78.8-2.07 0-2.86zM5.41 20L4 18.59l7.72-7.72 1.47 1.35L5.41 20z\"/>\n",
              "  </svg>\n",
              "      </button>\n",
              "      \n",
              "  <style>\n",
              "    .colab-df-container {\n",
              "      display:flex;\n",
              "      flex-wrap:wrap;\n",
              "      gap: 12px;\n",
              "    }\n",
              "\n",
              "    .colab-df-convert {\n",
              "      background-color: #E8F0FE;\n",
              "      border: none;\n",
              "      border-radius: 50%;\n",
              "      cursor: pointer;\n",
              "      display: none;\n",
              "      fill: #1967D2;\n",
              "      height: 32px;\n",
              "      padding: 0 0 0 0;\n",
              "      width: 32px;\n",
              "    }\n",
              "\n",
              "    .colab-df-convert:hover {\n",
              "      background-color: #E2EBFA;\n",
              "      box-shadow: 0px 1px 2px rgba(60, 64, 67, 0.3), 0px 1px 3px 1px rgba(60, 64, 67, 0.15);\n",
              "      fill: #174EA6;\n",
              "    }\n",
              "\n",
              "    [theme=dark] .colab-df-convert {\n",
              "      background-color: #3B4455;\n",
              "      fill: #D2E3FC;\n",
              "    }\n",
              "\n",
              "    [theme=dark] .colab-df-convert:hover {\n",
              "      background-color: #434B5C;\n",
              "      box-shadow: 0px 1px 3px 1px rgba(0, 0, 0, 0.15);\n",
              "      filter: drop-shadow(0px 1px 2px rgba(0, 0, 0, 0.3));\n",
              "      fill: #FFFFFF;\n",
              "    }\n",
              "  </style>\n",
              "\n",
              "      <script>\n",
              "        const buttonEl =\n",
              "          document.querySelector('#df-cabbdc19-59ed-4af9-84ec-0bec298b48e3 button.colab-df-convert');\n",
              "        buttonEl.style.display =\n",
              "          google.colab.kernel.accessAllowed ? 'block' : 'none';\n",
              "\n",
              "        async function convertToInteractive(key) {\n",
              "          const element = document.querySelector('#df-cabbdc19-59ed-4af9-84ec-0bec298b48e3');\n",
              "          const dataTable =\n",
              "            await google.colab.kernel.invokeFunction('convertToInteractive',\n",
              "                                                     [key], {});\n",
              "          if (!dataTable) return;\n",
              "\n",
              "          const docLinkHtml = 'Like what you see? Visit the ' +\n",
              "            '<a target=\"_blank\" href=https://colab.research.google.com/notebooks/data_table.ipynb>data table notebook</a>'\n",
              "            + ' to learn more about interactive tables.';\n",
              "          element.innerHTML = '';\n",
              "          dataTable['output_type'] = 'display_data';\n",
              "          await google.colab.output.renderOutput(dataTable, element);\n",
              "          const docLink = document.createElement('div');\n",
              "          docLink.innerHTML = docLinkHtml;\n",
              "          element.appendChild(docLink);\n",
              "        }\n",
              "      </script>\n",
              "    </div>\n",
              "  </div>\n",
              "  "
            ]
          },
          "metadata": {},
          "execution_count": 7
        }
      ]
    },
    {
      "cell_type": "code",
      "metadata": {
        "colab": {
          "base_uri": "https://localhost:8080/",
          "height": 455
        },
        "id": "YNDaM0Z9wndL",
        "outputId": "1f2c4b76-0a6e-4040-c91f-40d47b16fbc9"
      },
      "source": [
        "#concatenating the datasets of weather data and electricity consumption\n",
        "df = pd.concat([knmi, Energy], axis=1) #axis =1 for considering the columns\n",
        "df"
      ],
      "execution_count": 8,
      "outputs": [
        {
          "output_type": "execute_result",
          "data": {
            "text/plain": [
              "                     month  HH  TD   U  Temp    RH  Q  DR  FF  FX      P  \\\n",
              "Time                                                                       \n",
              "2016-01-01 01:00:00      1   1  38  82   6.6  0.82  0   0  30  70  10224   \n",
              "2016-01-01 02:00:00      1   2  43  83   7.0  0.83  0   0  40  80  10228   \n",
              "2016-01-01 03:00:00      1   3  46  91   5.9  0.91  0   0  30  80  10232   \n",
              "2016-01-01 04:00:00      1   4  36  96   4.2  0.96  0   0  20  40  10237   \n",
              "2016-01-01 05:00:00      1   5  37  98   4.0  0.98  0   0  20  30  10240   \n",
              "...                    ...  ..  ..  ..   ...   ... ..  ..  ..  ..    ...   \n",
              "2018-12-31 19:00:00     12  19  78  93   8.7  0.93  0   0  30  60  10341   \n",
              "2018-12-31 20:00:00     12  20  74  92   8.5  0.92  0   0  30  50  10338   \n",
              "2018-12-31 21:00:00     12  21  66  89   8.2  0.89  0   0  40  60  10336   \n",
              "2018-12-31 22:00:00     12  22  68  94   7.6  0.94  0   0  40  70  10332   \n",
              "2018-12-31 23:00:00     12  23  67  94   7.6  0.94  0   7  40  60  10333   \n",
              "\n",
              "                     building 41  \n",
              "Time                              \n",
              "2016-01-01 01:00:00    23.783228  \n",
              "2016-01-01 02:00:00    23.783228  \n",
              "2016-01-01 03:00:00    23.783228  \n",
              "2016-01-01 04:00:00    23.783228  \n",
              "2016-01-01 05:00:00    23.783228  \n",
              "...                          ...  \n",
              "2018-12-31 19:00:00    18.602723  \n",
              "2018-12-31 20:00:00    18.838200  \n",
              "2018-12-31 21:00:00    18.602723  \n",
              "2018-12-31 22:00:00    18.131768  \n",
              "2018-12-31 23:00:00    18.602723  \n",
              "\n",
              "[26303 rows x 12 columns]"
            ],
            "text/html": [
              "\n",
              "  <div id=\"df-1a39e27b-20ce-4a64-b5d0-8f17ca047a3d\">\n",
              "    <div class=\"colab-df-container\">\n",
              "      <div>\n",
              "<style scoped>\n",
              "    .dataframe tbody tr th:only-of-type {\n",
              "        vertical-align: middle;\n",
              "    }\n",
              "\n",
              "    .dataframe tbody tr th {\n",
              "        vertical-align: top;\n",
              "    }\n",
              "\n",
              "    .dataframe thead th {\n",
              "        text-align: right;\n",
              "    }\n",
              "</style>\n",
              "<table border=\"1\" class=\"dataframe\">\n",
              "  <thead>\n",
              "    <tr style=\"text-align: right;\">\n",
              "      <th></th>\n",
              "      <th>month</th>\n",
              "      <th>HH</th>\n",
              "      <th>TD</th>\n",
              "      <th>U</th>\n",
              "      <th>Temp</th>\n",
              "      <th>RH</th>\n",
              "      <th>Q</th>\n",
              "      <th>DR</th>\n",
              "      <th>FF</th>\n",
              "      <th>FX</th>\n",
              "      <th>P</th>\n",
              "      <th>building 41</th>\n",
              "    </tr>\n",
              "    <tr>\n",
              "      <th>Time</th>\n",
              "      <th></th>\n",
              "      <th></th>\n",
              "      <th></th>\n",
              "      <th></th>\n",
              "      <th></th>\n",
              "      <th></th>\n",
              "      <th></th>\n",
              "      <th></th>\n",
              "      <th></th>\n",
              "      <th></th>\n",
              "      <th></th>\n",
              "      <th></th>\n",
              "    </tr>\n",
              "  </thead>\n",
              "  <tbody>\n",
              "    <tr>\n",
              "      <th>2016-01-01 01:00:00</th>\n",
              "      <td>1</td>\n",
              "      <td>1</td>\n",
              "      <td>38</td>\n",
              "      <td>82</td>\n",
              "      <td>6.6</td>\n",
              "      <td>0.82</td>\n",
              "      <td>0</td>\n",
              "      <td>0</td>\n",
              "      <td>30</td>\n",
              "      <td>70</td>\n",
              "      <td>10224</td>\n",
              "      <td>23.783228</td>\n",
              "    </tr>\n",
              "    <tr>\n",
              "      <th>2016-01-01 02:00:00</th>\n",
              "      <td>1</td>\n",
              "      <td>2</td>\n",
              "      <td>43</td>\n",
              "      <td>83</td>\n",
              "      <td>7.0</td>\n",
              "      <td>0.83</td>\n",
              "      <td>0</td>\n",
              "      <td>0</td>\n",
              "      <td>40</td>\n",
              "      <td>80</td>\n",
              "      <td>10228</td>\n",
              "      <td>23.783228</td>\n",
              "    </tr>\n",
              "    <tr>\n",
              "      <th>2016-01-01 03:00:00</th>\n",
              "      <td>1</td>\n",
              "      <td>3</td>\n",
              "      <td>46</td>\n",
              "      <td>91</td>\n",
              "      <td>5.9</td>\n",
              "      <td>0.91</td>\n",
              "      <td>0</td>\n",
              "      <td>0</td>\n",
              "      <td>30</td>\n",
              "      <td>80</td>\n",
              "      <td>10232</td>\n",
              "      <td>23.783228</td>\n",
              "    </tr>\n",
              "    <tr>\n",
              "      <th>2016-01-01 04:00:00</th>\n",
              "      <td>1</td>\n",
              "      <td>4</td>\n",
              "      <td>36</td>\n",
              "      <td>96</td>\n",
              "      <td>4.2</td>\n",
              "      <td>0.96</td>\n",
              "      <td>0</td>\n",
              "      <td>0</td>\n",
              "      <td>20</td>\n",
              "      <td>40</td>\n",
              "      <td>10237</td>\n",
              "      <td>23.783228</td>\n",
              "    </tr>\n",
              "    <tr>\n",
              "      <th>2016-01-01 05:00:00</th>\n",
              "      <td>1</td>\n",
              "      <td>5</td>\n",
              "      <td>37</td>\n",
              "      <td>98</td>\n",
              "      <td>4.0</td>\n",
              "      <td>0.98</td>\n",
              "      <td>0</td>\n",
              "      <td>0</td>\n",
              "      <td>20</td>\n",
              "      <td>30</td>\n",
              "      <td>10240</td>\n",
              "      <td>23.783228</td>\n",
              "    </tr>\n",
              "    <tr>\n",
              "      <th>...</th>\n",
              "      <td>...</td>\n",
              "      <td>...</td>\n",
              "      <td>...</td>\n",
              "      <td>...</td>\n",
              "      <td>...</td>\n",
              "      <td>...</td>\n",
              "      <td>...</td>\n",
              "      <td>...</td>\n",
              "      <td>...</td>\n",
              "      <td>...</td>\n",
              "      <td>...</td>\n",
              "      <td>...</td>\n",
              "    </tr>\n",
              "    <tr>\n",
              "      <th>2018-12-31 19:00:00</th>\n",
              "      <td>12</td>\n",
              "      <td>19</td>\n",
              "      <td>78</td>\n",
              "      <td>93</td>\n",
              "      <td>8.7</td>\n",
              "      <td>0.93</td>\n",
              "      <td>0</td>\n",
              "      <td>0</td>\n",
              "      <td>30</td>\n",
              "      <td>60</td>\n",
              "      <td>10341</td>\n",
              "      <td>18.602723</td>\n",
              "    </tr>\n",
              "    <tr>\n",
              "      <th>2018-12-31 20:00:00</th>\n",
              "      <td>12</td>\n",
              "      <td>20</td>\n",
              "      <td>74</td>\n",
              "      <td>92</td>\n",
              "      <td>8.5</td>\n",
              "      <td>0.92</td>\n",
              "      <td>0</td>\n",
              "      <td>0</td>\n",
              "      <td>30</td>\n",
              "      <td>50</td>\n",
              "      <td>10338</td>\n",
              "      <td>18.838200</td>\n",
              "    </tr>\n",
              "    <tr>\n",
              "      <th>2018-12-31 21:00:00</th>\n",
              "      <td>12</td>\n",
              "      <td>21</td>\n",
              "      <td>66</td>\n",
              "      <td>89</td>\n",
              "      <td>8.2</td>\n",
              "      <td>0.89</td>\n",
              "      <td>0</td>\n",
              "      <td>0</td>\n",
              "      <td>40</td>\n",
              "      <td>60</td>\n",
              "      <td>10336</td>\n",
              "      <td>18.602723</td>\n",
              "    </tr>\n",
              "    <tr>\n",
              "      <th>2018-12-31 22:00:00</th>\n",
              "      <td>12</td>\n",
              "      <td>22</td>\n",
              "      <td>68</td>\n",
              "      <td>94</td>\n",
              "      <td>7.6</td>\n",
              "      <td>0.94</td>\n",
              "      <td>0</td>\n",
              "      <td>0</td>\n",
              "      <td>40</td>\n",
              "      <td>70</td>\n",
              "      <td>10332</td>\n",
              "      <td>18.131768</td>\n",
              "    </tr>\n",
              "    <tr>\n",
              "      <th>2018-12-31 23:00:00</th>\n",
              "      <td>12</td>\n",
              "      <td>23</td>\n",
              "      <td>67</td>\n",
              "      <td>94</td>\n",
              "      <td>7.6</td>\n",
              "      <td>0.94</td>\n",
              "      <td>0</td>\n",
              "      <td>7</td>\n",
              "      <td>40</td>\n",
              "      <td>60</td>\n",
              "      <td>10333</td>\n",
              "      <td>18.602723</td>\n",
              "    </tr>\n",
              "  </tbody>\n",
              "</table>\n",
              "<p>26303 rows × 12 columns</p>\n",
              "</div>\n",
              "      <button class=\"colab-df-convert\" onclick=\"convertToInteractive('df-1a39e27b-20ce-4a64-b5d0-8f17ca047a3d')\"\n",
              "              title=\"Convert this dataframe to an interactive table.\"\n",
              "              style=\"display:none;\">\n",
              "        \n",
              "  <svg xmlns=\"http://www.w3.org/2000/svg\" height=\"24px\"viewBox=\"0 0 24 24\"\n",
              "       width=\"24px\">\n",
              "    <path d=\"M0 0h24v24H0V0z\" fill=\"none\"/>\n",
              "    <path d=\"M18.56 5.44l.94 2.06.94-2.06 2.06-.94-2.06-.94-.94-2.06-.94 2.06-2.06.94zm-11 1L8.5 8.5l.94-2.06 2.06-.94-2.06-.94L8.5 2.5l-.94 2.06-2.06.94zm10 10l.94 2.06.94-2.06 2.06-.94-2.06-.94-.94-2.06-.94 2.06-2.06.94z\"/><path d=\"M17.41 7.96l-1.37-1.37c-.4-.4-.92-.59-1.43-.59-.52 0-1.04.2-1.43.59L10.3 9.45l-7.72 7.72c-.78.78-.78 2.05 0 2.83L4 21.41c.39.39.9.59 1.41.59.51 0 1.02-.2 1.41-.59l7.78-7.78 2.81-2.81c.8-.78.8-2.07 0-2.86zM5.41 20L4 18.59l7.72-7.72 1.47 1.35L5.41 20z\"/>\n",
              "  </svg>\n",
              "      </button>\n",
              "      \n",
              "  <style>\n",
              "    .colab-df-container {\n",
              "      display:flex;\n",
              "      flex-wrap:wrap;\n",
              "      gap: 12px;\n",
              "    }\n",
              "\n",
              "    .colab-df-convert {\n",
              "      background-color: #E8F0FE;\n",
              "      border: none;\n",
              "      border-radius: 50%;\n",
              "      cursor: pointer;\n",
              "      display: none;\n",
              "      fill: #1967D2;\n",
              "      height: 32px;\n",
              "      padding: 0 0 0 0;\n",
              "      width: 32px;\n",
              "    }\n",
              "\n",
              "    .colab-df-convert:hover {\n",
              "      background-color: #E2EBFA;\n",
              "      box-shadow: 0px 1px 2px rgba(60, 64, 67, 0.3), 0px 1px 3px 1px rgba(60, 64, 67, 0.15);\n",
              "      fill: #174EA6;\n",
              "    }\n",
              "\n",
              "    [theme=dark] .colab-df-convert {\n",
              "      background-color: #3B4455;\n",
              "      fill: #D2E3FC;\n",
              "    }\n",
              "\n",
              "    [theme=dark] .colab-df-convert:hover {\n",
              "      background-color: #434B5C;\n",
              "      box-shadow: 0px 1px 3px 1px rgba(0, 0, 0, 0.15);\n",
              "      filter: drop-shadow(0px 1px 2px rgba(0, 0, 0, 0.3));\n",
              "      fill: #FFFFFF;\n",
              "    }\n",
              "  </style>\n",
              "\n",
              "      <script>\n",
              "        const buttonEl =\n",
              "          document.querySelector('#df-1a39e27b-20ce-4a64-b5d0-8f17ca047a3d button.colab-df-convert');\n",
              "        buttonEl.style.display =\n",
              "          google.colab.kernel.accessAllowed ? 'block' : 'none';\n",
              "\n",
              "        async function convertToInteractive(key) {\n",
              "          const element = document.querySelector('#df-1a39e27b-20ce-4a64-b5d0-8f17ca047a3d');\n",
              "          const dataTable =\n",
              "            await google.colab.kernel.invokeFunction('convertToInteractive',\n",
              "                                                     [key], {});\n",
              "          if (!dataTable) return;\n",
              "\n",
              "          const docLinkHtml = 'Like what you see? Visit the ' +\n",
              "            '<a target=\"_blank\" href=https://colab.research.google.com/notebooks/data_table.ipynb>data table notebook</a>'\n",
              "            + ' to learn more about interactive tables.';\n",
              "          element.innerHTML = '';\n",
              "          dataTable['output_type'] = 'display_data';\n",
              "          await google.colab.output.renderOutput(dataTable, element);\n",
              "          const docLink = document.createElement('div');\n",
              "          docLink.innerHTML = docLinkHtml;\n",
              "          element.appendChild(docLink);\n",
              "        }\n",
              "      </script>\n",
              "    </div>\n",
              "  </div>\n",
              "  "
            ]
          },
          "metadata": {},
          "execution_count": 8
        }
      ]
    },
    {
      "cell_type": "code",
      "metadata": {
        "colab": {
          "base_uri": "https://localhost:8080/"
        },
        "id": "ipKurfIOxWKd",
        "outputId": "7a2f1144-1c61-4821-b18c-0c4ccc7771af"
      },
      "source": [
        "# check missing data status\n",
        "df.isna().sum()"
      ],
      "execution_count": 9,
      "outputs": [
        {
          "output_type": "execute_result",
          "data": {
            "text/plain": [
              "month          0\n",
              "HH             0\n",
              "TD             0\n",
              "U              0\n",
              "Temp           0\n",
              "RH             0\n",
              "Q              0\n",
              "DR             0\n",
              "FF             0\n",
              "FX             0\n",
              "P              0\n",
              "building 41    0\n",
              "dtype: int64"
            ]
          },
          "metadata": {},
          "execution_count": 9
        }
      ]
    },
    {
      "cell_type": "markdown",
      "metadata": {
        "id": "3uao7lfUx-Sv"
      },
      "source": [
        "We have no missing values in the dataframe. Our output (dependent variable) is building 12 column. other columns of the data set are independent values. We can find strong and weak correlation with different variables. With .corr() method, we can utilize Pearson's correlation coefficient which is a measure of the strength of a linear association between two variables. "
      ]
    },
    {
      "cell_type": "code",
      "metadata": {
        "colab": {
          "base_uri": "https://localhost:8080/",
          "height": 402
        },
        "id": "OaZQokvXwF21",
        "outputId": "85228334-3c6b-4752-9b14-d5d9d1e1a649"
      },
      "source": [
        "plt.figure(figsize = (16,6)) # Create matplotlib figure\n",
        "sns.heatmap(df.corr(), annot = True, linewidths=1, fmt=\".2g\", cmap= 'coolwarm') \n",
        "plt.xticks(rotation='horizontal')"
      ],
      "execution_count": 10,
      "outputs": [
        {
          "output_type": "execute_result",
          "data": {
            "text/plain": [
              "(array([ 0.5,  1.5,  2.5,  3.5,  4.5,  5.5,  6.5,  7.5,  8.5,  9.5, 10.5,\n",
              "        11.5]), <a list of 12 Text major ticklabel objects>)"
            ]
          },
          "metadata": {},
          "execution_count": 10
        },
        {
          "output_type": "display_data",
          "data": {
            "text/plain": [
              "<Figure size 1152x432 with 2 Axes>"
            ],
            "image/png": "[encoded data removed]"
          },
          "metadata": {
            "needs_background": "light"
          }
        }
      ]
    },
    {
      "cell_type": "markdown",
      "metadata": {
        "id": "-f3TsrEe2yt7"
      },
      "source": [
        "From the heatmap, we see temperature (Temp) correlates very positively with building electricity demand. Relative humidity (U) and hourly sum of precipitation (RH) are two highest negatively correlated features. in addition, both of these features are also multi-collinear. Which means, either of them can be utilized for predicting electricity demand. \n",
        "#Plot energy consumption data against U and Temp"
      ]
    },
    {
      "cell_type": "code",
      "metadata": {
        "id": "FhQ0c4EewF0Q"
      },
      "source": [
        "# Resample the energy of the building over a week using the resmaple function and the mean  function. \n",
        "df_sum_weekly = df['building 41'].resample('W').mean()\n",
        "\n",
        "# Resample the temperature over a week. \n",
        "df_feature1= df[\"Temp\"].resample(\"W\").mean()\n",
        "\n",
        "# Resample the relative humidity over a week. \n",
        "df_feature2 = df[\"U\"].resample(\"W\").mean()"
      ],
      "execution_count": 11,
      "outputs": []
    },
    {
      "cell_type": "code",
      "metadata": {
        "colab": {
          "base_uri": "https://localhost:8080/",
          "height": 317
        },
        "id": "BKh6WWoWwFxu",
        "outputId": "79ceaf5d-5757-4607-bb7d-caf6a10c5dde"
      },
      "source": [
        "# plot the result\n",
        "fig,ax = plt.subplots(figsize=(24,8))  # Create matplotlib figure\n",
        "ax.plot(df_sum_weekly.index, df_sum_weekly, color=\"red\",marker=\"o\")\n",
        "ax.set_ylabel(\"KWh\")\n",
        "ax.set_xlabel('Date')\n",
        "ax2 = ax.twinx() #Create a new Axes with an invisible x-axis and an independent y-axis positioned opposite to the original one (i.e. at right).\n",
        "ax3 = ax.twinx()\n",
        "ax2.plot(df_sum_weekly.index, df_feature1, color=\"blue\", marker=\"o\")\n",
        "ax2.set_ylabel(\"°C\")\n",
        "ax3.plot(df_sum_weekly.index, df_feature2, color=\"green\", marker=\"o\")\n",
        "ax3.set_ylabel(\"grams/cubic meter\")\n",
        "ax3.spines[\"right\"].set_position((\"axes\", 1.05))\n",
        "fig.legend([\"Resampled Weekly Energy Consumption\",\"Resampled Weekly Temperature\",\"Resampled Weekly Relative Humidity\"], loc='upper right')\n",
        "fig.show()"
      ],
      "execution_count": 12,
      "outputs": [
        {
          "output_type": "display_data",
          "data": {
            "text/plain": [
              "<Figure size 1728x576 with 3 Axes>"
            ],
            "image/png": "[encoded data removed]"
          },
          "metadata": {
            "needs_background": "light"
          }
        }
      ]
    },
    {
      "cell_type": "markdown",
      "metadata": {
        "id": "fr6BHYbb76eG"
      },
      "source": [
        "We see that energy demand of a building varies with temperature. Variations of the energy consumption across various seasons are also visible.\n",
        "Negative linear correlation of Relative Humidity can be explained. It is not just correlational with Energy consumption but also has high negative correlation (-0.57) with temperature. The correlations observed are well expected.\n",
        "\n",
        "## Feature selection\n",
        "We can now select features based on their strong coorealtion with the output and remove some input features which are strongly coorelated with each other to avoid the problem of multicolinearity. It is a phenomenon in which one predictor variable in a multiple regression model can be linearly predicted from the others with a substantial degree of accuracy.\n"
      ]
    },
    {
      "cell_type": "markdown",
      "metadata": {
        "id": "IwdD8yXg7tPp"
      },
      "source": [
        "We see, the energy consumption has a seasonal effect which is reflected on the different months of the year. So, it has more correlation with month than hours of the day. "
      ]
    },
    {
      "cell_type": "code",
      "metadata": {
        "colab": {
          "base_uri": "https://localhost:8080/",
          "height": 455
        },
        "id": "T3FLLMhDwFsP",
        "outputId": "4b5592d8-2998-47ff-e753-09a23090ad8d"
      },
      "source": [
        "#Reduce number of features with lower correlation values or it has an inverse effect on the results of the model.\n",
        "knmi_updated= knmi.loc[:, ~knmi.columns.isin([\"TD\",\"U\",\"DR\",\"FX\"])] # ~ sign drops the columns we select\n",
        "knmi_updated"
      ],
      "execution_count": 13,
      "outputs": [
        {
          "output_type": "execute_result",
          "data": {
            "text/plain": [
              "                     month  HH  Temp    RH  Q  FF      P\n",
              "Time                                                    \n",
              "2016-01-01 01:00:00      1   1   6.6  0.82  0  30  10224\n",
              "2016-01-01 02:00:00      1   2   7.0  0.83  0  40  10228\n",
              "2016-01-01 03:00:00      1   3   5.9  0.91  0  30  10232\n",
              "2016-01-01 04:00:00      1   4   4.2  0.96  0  20  10237\n",
              "2016-01-01 05:00:00      1   5   4.0  0.98  0  20  10240\n",
              "...                    ...  ..   ...   ... ..  ..    ...\n",
              "2018-12-31 19:00:00     12  19   8.7  0.93  0  30  10341\n",
              "2018-12-31 20:00:00     12  20   8.5  0.92  0  30  10338\n",
              "2018-12-31 21:00:00     12  21   8.2  0.89  0  40  10336\n",
              "2018-12-31 22:00:00     12  22   7.6  0.94  0  40  10332\n",
              "2018-12-31 23:00:00     12  23   7.6  0.94  0  40  10333\n",
              "\n",
              "[26303 rows x 7 columns]"
            ],
            "text/html": [
              "\n",
              "  <div id=\"df-2c53d66a-5658-4f8a-a4e1-9fa8474c2496\">\n",
              "    <div class=\"colab-df-container\">\n",
              "      <div>\n",
              "<style scoped>\n",
              "    .dataframe tbody tr th:only-of-type {\n",
              "        vertical-align: middle;\n",
              "    }\n",
              "\n",
              "    .dataframe tbody tr th {\n",
              "        vertical-align: top;\n",
              "    }\n",
              "\n",
              "    .dataframe thead th {\n",
              "        text-align: right;\n",
              "    }\n",
              "</style>\n",
              "<table border=\"1\" class=\"dataframe\">\n",
              "  <thead>\n",
              "    <tr style=\"text-align: right;\">\n",
              "      <th></th>\n",
              "      <th>month</th>\n",
              "      <th>HH</th>\n",
              "      <th>Temp</th>\n",
              "      <th>RH</th>\n",
              "      <th>Q</th>\n",
              "      <th>FF</th>\n",
              "      <th>P</th>\n",
              "    </tr>\n",
              "    <tr>\n",
              "      <th>Time</th>\n",
              "      <th></th>\n",
              "      <th></th>\n",
              "      <th></th>\n",
              "      <th></th>\n",
              "      <th></th>\n",
              "      <th></th>\n",
              "      <th></th>\n",
              "    </tr>\n",
              "  </thead>\n",
              "  <tbody>\n",
              "    <tr>\n",
              "      <th>2016-01-01 01:00:00</th>\n",
              "      <td>1</td>\n",
              "      <td>1</td>\n",
              "      <td>6.6</td>\n",
              "      <td>0.82</td>\n",
              "      <td>0</td>\n",
              "      <td>30</td>\n",
              "      <td>10224</td>\n",
              "    </tr>\n",
              "    <tr>\n",
              "      <th>2016-01-01 02:00:00</th>\n",
              "      <td>1</td>\n",
              "      <td>2</td>\n",
              "      <td>7.0</td>\n",
              "      <td>0.83</td>\n",
              "      <td>0</td>\n",
              "      <td>40</td>\n",
              "      <td>10228</td>\n",
              "    </tr>\n",
              "    <tr>\n",
              "      <th>2016-01-01 03:00:00</th>\n",
              "      <td>1</td>\n",
              "      <td>3</td>\n",
              "      <td>5.9</td>\n",
              "      <td>0.91</td>\n",
              "      <td>0</td>\n",
              "      <td>30</td>\n",
              "      <td>10232</td>\n",
              "    </tr>\n",
              "    <tr>\n",
              "      <th>2016-01-01 04:00:00</th>\n",
              "      <td>1</td>\n",
              "      <td>4</td>\n",
              "      <td>4.2</td>\n",
              "      <td>0.96</td>\n",
              "      <td>0</td>\n",
              "      <td>20</td>\n",
              "      <td>10237</td>\n",
              "    </tr>\n",
              "    <tr>\n",
              "      <th>2016-01-01 05:00:00</th>\n",
              "      <td>1</td>\n",
              "      <td>5</td>\n",
              "      <td>4.0</td>\n",
              "      <td>0.98</td>\n",
              "      <td>0</td>\n",
              "      <td>20</td>\n",
              "      <td>10240</td>\n",
              "    </tr>\n",
              "    <tr>\n",
              "      <th>...</th>\n",
              "      <td>...</td>\n",
              "      <td>...</td>\n",
              "      <td>...</td>\n",
              "      <td>...</td>\n",
              "      <td>...</td>\n",
              "      <td>...</td>\n",
              "      <td>...</td>\n",
              "    </tr>\n",
              "    <tr>\n",
              "      <th>2018-12-31 19:00:00</th>\n",
              "      <td>12</td>\n",
              "      <td>19</td>\n",
              "      <td>8.7</td>\n",
              "      <td>0.93</td>\n",
              "      <td>0</td>\n",
              "      <td>30</td>\n",
              "      <td>10341</td>\n",
              "    </tr>\n",
              "    <tr>\n",
              "      <th>2018-12-31 20:00:00</th>\n",
              "      <td>12</td>\n",
              "      <td>20</td>\n",
              "      <td>8.5</td>\n",
              "      <td>0.92</td>\n",
              "      <td>0</td>\n",
              "      <td>30</td>\n",
              "      <td>10338</td>\n",
              "    </tr>\n",
              "    <tr>\n",
              "      <th>2018-12-31 21:00:00</th>\n",
              "      <td>12</td>\n",
              "      <td>21</td>\n",
              "      <td>8.2</td>\n",
              "      <td>0.89</td>\n",
              "      <td>0</td>\n",
              "      <td>40</td>\n",
              "      <td>10336</td>\n",
              "    </tr>\n",
              "    <tr>\n",
              "      <th>2018-12-31 22:00:00</th>\n",
              "      <td>12</td>\n",
              "      <td>22</td>\n",
              "      <td>7.6</td>\n",
              "      <td>0.94</td>\n",
              "      <td>0</td>\n",
              "      <td>40</td>\n",
              "      <td>10332</td>\n",
              "    </tr>\n",
              "    <tr>\n",
              "      <th>2018-12-31 23:00:00</th>\n",
              "      <td>12</td>\n",
              "      <td>23</td>\n",
              "      <td>7.6</td>\n",
              "      <td>0.94</td>\n",
              "      <td>0</td>\n",
              "      <td>40</td>\n",
              "      <td>10333</td>\n",
              "    </tr>\n",
              "  </tbody>\n",
              "</table>\n",
              "<p>26303 rows × 7 columns</p>\n",
              "</div>\n",
              "      <button class=\"colab-df-convert\" onclick=\"convertToInteractive('df-2c53d66a-5658-4f8a-a4e1-9fa8474c2496')\"\n",
              "              title=\"Convert this dataframe to an interactive table.\"\n",
              "              style=\"display:none;\">\n",
              "        \n",
              "  <svg xmlns=\"http://www.w3.org/2000/svg\" height=\"24px\"viewBox=\"0 0 24 24\"\n",
              "       width=\"24px\">\n",
              "    <path d=\"M0 0h24v24H0V0z\" fill=\"none\"/>\n",
              "    <path d=\"M18.56 5.44l.94 2.06.94-2.06 2.06-.94-2.06-.94-.94-2.06-.94 2.06-2.06.94zm-11 1L8.5 8.5l.94-2.06 2.06-.94-2.06-.94L8.5 2.5l-.94 2.06-2.06.94zm10 10l.94 2.06.94-2.06 2.06-.94-2.06-.94-.94-2.06-.94 2.06-2.06.94z\"/><path d=\"M17.41 7.96l-1.37-1.37c-.4-.4-.92-.59-1.43-.59-.52 0-1.04.2-1.43.59L10.3 9.45l-7.72 7.72c-.78.78-.78 2.05 0 2.83L4 21.41c.39.39.9.59 1.41.59.51 0 1.02-.2 1.41-.59l7.78-7.78 2.81-2.81c.8-.78.8-2.07 0-2.86zM5.41 20L4 18.59l7.72-7.72 1.47 1.35L5.41 20z\"/>\n",
              "  </svg>\n",
              "      </button>\n",
              "      \n",
              "  <style>\n",
              "    .colab-df-container {\n",
              "      display:flex;\n",
              "      flex-wrap:wrap;\n",
              "      gap: 12px;\n",
              "    }\n",
              "\n",
              "    .colab-df-convert {\n",
              "      background-color: #E8F0FE;\n",
              "      border: none;\n",
              "      border-radius: 50%;\n",
              "      cursor: pointer;\n",
              "      display: none;\n",
              "      fill: #1967D2;\n",
              "      height: 32px;\n",
              "      padding: 0 0 0 0;\n",
              "      width: 32px;\n",
              "    }\n",
              "\n",
              "    .colab-df-convert:hover {\n",
              "      background-color: #E2EBFA;\n",
              "      box-shadow: 0px 1px 2px rgba(60, 64, 67, 0.3), 0px 1px 3px 1px rgba(60, 64, 67, 0.15);\n",
              "      fill: #174EA6;\n",
              "    }\n",
              "\n",
              "    [theme=dark] .colab-df-convert {\n",
              "      background-color: #3B4455;\n",
              "      fill: #D2E3FC;\n",
              "    }\n",
              "\n",
              "    [theme=dark] .colab-df-convert:hover {\n",
              "      background-color: #434B5C;\n",
              "      box-shadow: 0px 1px 3px 1px rgba(0, 0, 0, 0.15);\n",
              "      filter: drop-shadow(0px 1px 2px rgba(0, 0, 0, 0.3));\n",
              "      fill: #FFFFFF;\n",
              "    }\n",
              "  </style>\n",
              "\n",
              "      <script>\n",
              "        const buttonEl =\n",
              "          document.querySelector('#df-2c53d66a-5658-4f8a-a4e1-9fa8474c2496 button.colab-df-convert');\n",
              "        buttonEl.style.display =\n",
              "          google.colab.kernel.accessAllowed ? 'block' : 'none';\n",
              "\n",
              "        async function convertToInteractive(key) {\n",
              "          const element = document.querySelector('#df-2c53d66a-5658-4f8a-a4e1-9fa8474c2496');\n",
              "          const dataTable =\n",
              "            await google.colab.kernel.invokeFunction('convertToInteractive',\n",
              "                                                     [key], {});\n",
              "          if (!dataTable) return;\n",
              "\n",
              "          const docLinkHtml = 'Like what you see? Visit the ' +\n",
              "            '<a target=\"_blank\" href=https://colab.research.google.com/notebooks/data_table.ipynb>data table notebook</a>'\n",
              "            + ' to learn more about interactive tables.';\n",
              "          element.innerHTML = '';\n",
              "          dataTable['output_type'] = 'display_data';\n",
              "          await google.colab.output.renderOutput(dataTable, element);\n",
              "          const docLink = document.createElement('div');\n",
              "          docLink.innerHTML = docLinkHtml;\n",
              "          element.appendChild(docLink);\n",
              "        }\n",
              "      </script>\n",
              "    </div>\n",
              "  </div>\n",
              "  "
            ]
          },
          "metadata": {},
          "execution_count": 13
        }
      ]
    },
    {
      "cell_type": "markdown",
      "metadata": {
        "id": "jLxfFzYm13hf"
      },
      "source": [
        "### Now we develop a machine learning regression model based on the weather parameters to predict the energy consumption of the building.\n",
        "Various forecasting techniques can be utilized with machine learning models. (Deng et al., 2018) tested the performance of various machine learning models on one of the largest database on buildings in CBECS, and found both Support Vector Machine (SVM) and Random Forest (RF) being able to handle the non-linear relationships better as they perform dynamic local investigations better rather than global optimization. Therefore, we are going to consider SVM and RF to develop the model.  "
      ]
    },
    {
      "cell_type": "code",
      "metadata": {
        "colab": {
          "base_uri": "https://localhost:8080/",
          "height": 455
        },
        "id": "hPKYZq9Z4zZa",
        "outputId": "e795a050-1ed0-4e0a-b7e2-cfe6d16e32ef"
      },
      "source": [
        "#Splitting the data into training (80%) and testing (20%) set\n",
        "from sklearn.model_selection import train_test_split\n",
        "X_train, X_test, y_train, y_test = train_test_split(knmi_updated, Energy, test_size = 0.2, random_state = 0)\n",
        "y_train"
      ],
      "execution_count": 14,
      "outputs": [
        {
          "output_type": "execute_result",
          "data": {
            "text/plain": [
              "                     building 41\n",
              "Time                            \n",
              "2016-11-29 03:00:00    22.370362\n",
              "2018-01-29 11:00:00    24.725137\n",
              "2018-07-03 20:00:00    36.028058\n",
              "2017-09-05 16:00:00    44.034292\n",
              "2017-03-08 06:00:00    19.309155\n",
              "...                          ...\n",
              "2017-06-30 20:00:00    29.434687\n",
              "2018-03-29 17:00:00    21.899408\n",
              "2017-02-14 06:00:00    21.192975\n",
              "2017-03-26 00:00:00    19.544633\n",
              "2016-04-23 21:00:00    20.722020\n",
              "\n",
              "[21042 rows x 1 columns]"
            ],
            "text/html": [
              "\n",
              "  <div id=\"df-049edbd3-e749-4df9-9f01-a73eb1c4b012\">\n",
              "    <div class=\"colab-df-container\">\n",
              "      <div>\n",
              "<style scoped>\n",
              "    .dataframe tbody tr th:only-of-type {\n",
              "        vertical-align: middle;\n",
              "    }\n",
              "\n",
              "    .dataframe tbody tr th {\n",
              "        vertical-align: top;\n",
              "    }\n",
              "\n",
              "    .dataframe thead th {\n",
              "        text-align: right;\n",
              "    }\n",
              "</style>\n",
              "<table border=\"1\" class=\"dataframe\">\n",
              "  <thead>\n",
              "    <tr style=\"text-align: right;\">\n",
              "      <th></th>\n",
              "      <th>building 41</th>\n",
              "    </tr>\n",
              "    <tr>\n",
              "      <th>Time</th>\n",
              "      <th></th>\n",
              "    </tr>\n",
              "  </thead>\n",
              "  <tbody>\n",
              "    <tr>\n",
              "      <th>2016-11-29 03:00:00</th>\n",
              "      <td>22.370362</td>\n",
              "    </tr>\n",
              "    <tr>\n",
              "      <th>2018-01-29 11:00:00</th>\n",
              "      <td>24.725137</td>\n",
              "    </tr>\n",
              "    <tr>\n",
              "      <th>2018-07-03 20:00:00</th>\n",
              "      <td>36.028058</td>\n",
              "    </tr>\n",
              "    <tr>\n",
              "      <th>2017-09-05 16:00:00</th>\n",
              "      <td>44.034292</td>\n",
              "    </tr>\n",
              "    <tr>\n",
              "      <th>2017-03-08 06:00:00</th>\n",
              "      <td>19.309155</td>\n",
              "    </tr>\n",
              "    <tr>\n",
              "      <th>...</th>\n",
              "      <td>...</td>\n",
              "    </tr>\n",
              "    <tr>\n",
              "      <th>2017-06-30 20:00:00</th>\n",
              "      <td>29.434687</td>\n",
              "    </tr>\n",
              "    <tr>\n",
              "      <th>2018-03-29 17:00:00</th>\n",
              "      <td>21.899408</td>\n",
              "    </tr>\n",
              "    <tr>\n",
              "      <th>2017-02-14 06:00:00</th>\n",
              "      <td>21.192975</td>\n",
              "    </tr>\n",
              "    <tr>\n",
              "      <th>2017-03-26 00:00:00</th>\n",
              "      <td>19.544633</td>\n",
              "    </tr>\n",
              "    <tr>\n",
              "      <th>2016-04-23 21:00:00</th>\n",
              "      <td>20.722020</td>\n",
              "    </tr>\n",
              "  </tbody>\n",
              "</table>\n",
              "<p>21042 rows × 1 columns</p>\n",
              "</div>\n",
              "      <button class=\"colab-df-convert\" onclick=\"convertToInteractive('df-049edbd3-e749-4df9-9f01-a73eb1c4b012')\"\n",
              "              title=\"Convert this dataframe to an interactive table.\"\n",
              "              style=\"display:none;\">\n",
              "        \n",
              "  <svg xmlns=\"http://www.w3.org/2000/svg\" height=\"24px\"viewBox=\"0 0 24 24\"\n",
              "       width=\"24px\">\n",
              "    <path d=\"M0 0h24v24H0V0z\" fill=\"none\"/>\n",
              "    <path d=\"M18.56 5.44l.94 2.06.94-2.06 2.06-.94-2.06-.94-.94-2.06-.94 2.06-2.06.94zm-11 1L8.5 8.5l.94-2.06 2.06-.94-2.06-.94L8.5 2.5l-.94 2.06-2.06.94zm10 10l.94 2.06.94-2.06 2.06-.94-2.06-.94-.94-2.06-.94 2.06-2.06.94z\"/><path d=\"M17.41 7.96l-1.37-1.37c-.4-.4-.92-.59-1.43-.59-.52 0-1.04.2-1.43.59L10.3 9.45l-7.72 7.72c-.78.78-.78 2.05 0 2.83L4 21.41c.39.39.9.59 1.41.59.51 0 1.02-.2 1.41-.59l7.78-7.78 2.81-2.81c.8-.78.8-2.07 0-2.86zM5.41 20L4 18.59l7.72-7.72 1.47 1.35L5.41 20z\"/>\n",
              "  </svg>\n",
              "      </button>\n",
              "      \n",
              "  <style>\n",
              "    .colab-df-container {\n",
              "      display:flex;\n",
              "      flex-wrap:wrap;\n",
              "      gap: 12px;\n",
              "    }\n",
              "\n",
              "    .colab-df-convert {\n",
              "      background-color: #E8F0FE;\n",
              "      border: none;\n",
              "      border-radius: 50%;\n",
              "      cursor: pointer;\n",
              "      display: none;\n",
              "      fill: #1967D2;\n",
              "      height: 32px;\n",
              "      padding: 0 0 0 0;\n",
              "      width: 32px;\n",
              "    }\n",
              "\n",
              "    .colab-df-convert:hover {\n",
              "      background-color: #E2EBFA;\n",
              "      box-shadow: 0px 1px 2px rgba(60, 64, 67, 0.3), 0px 1px 3px 1px rgba(60, 64, 67, 0.15);\n",
              "      fill: #174EA6;\n",
              "    }\n",
              "\n",
              "    [theme=dark] .colab-df-convert {\n",
              "      background-color: #3B4455;\n",
              "      fill: #D2E3FC;\n",
              "    }\n",
              "\n",
              "    [theme=dark] .colab-df-convert:hover {\n",
              "      background-color: #434B5C;\n",
              "      box-shadow: 0px 1px 3px 1px rgba(0, 0, 0, 0.15);\n",
              "      filter: drop-shadow(0px 1px 2px rgba(0, 0, 0, 0.3));\n",
              "      fill: #FFFFFF;\n",
              "    }\n",
              "  </style>\n",
              "\n",
              "      <script>\n",
              "        const buttonEl =\n",
              "          document.querySelector('#df-049edbd3-e749-4df9-9f01-a73eb1c4b012 button.colab-df-convert');\n",
              "        buttonEl.style.display =\n",
              "          google.colab.kernel.accessAllowed ? 'block' : 'none';\n",
              "\n",
              "        async function convertToInteractive(key) {\n",
              "          const element = document.querySelector('#df-049edbd3-e749-4df9-9f01-a73eb1c4b012');\n",
              "          const dataTable =\n",
              "            await google.colab.kernel.invokeFunction('convertToInteractive',\n",
              "                                                     [key], {});\n",
              "          if (!dataTable) return;\n",
              "\n",
              "          const docLinkHtml = 'Like what you see? Visit the ' +\n",
              "            '<a target=\"_blank\" href=https://colab.research.google.com/notebooks/data_table.ipynb>data table notebook</a>'\n",
              "            + ' to learn more about interactive tables.';\n",
              "          element.innerHTML = '';\n",
              "          dataTable['output_type'] = 'display_data';\n",
              "          await google.colab.output.renderOutput(dataTable, element);\n",
              "          const docLink = document.createElement('div');\n",
              "          docLink.innerHTML = docLinkHtml;\n",
              "          element.appendChild(docLink);\n",
              "        }\n",
              "      </script>\n",
              "    </div>\n",
              "  </div>\n",
              "  "
            ]
          },
          "metadata": {},
          "execution_count": 14
        }
      ]
    },
    {
      "cell_type": "code",
      "metadata": {
        "colab": {
          "base_uri": "https://localhost:8080/"
        },
        "id": "54wOqJdlHI7B",
        "outputId": "92b4bd22-4e2a-4fbf-a504-c67f732d2b8f"
      },
      "source": [
        "y_train = y_train.values.ravel() #ravel is a numpy function to change a 2-dimensional array or a multi-dimensional array into a continuous flattened array.\n",
        "y_train"
      ],
      "execution_count": 15,
      "outputs": [
        {
          "output_type": "execute_result",
          "data": {
            "text/plain": [
              "array([22.3703625, 24.7251375, 36.0280575, ..., 21.192975 , 19.5446325,\n",
              "       20.72202  ])"
            ]
          },
          "metadata": {},
          "execution_count": 15
        }
      ]
    },
    {
      "cell_type": "code",
      "metadata": {
        "id": "fwyuvJ3cHA7Z",
        "colab": {
          "base_uri": "https://localhost:8080/"
        },
        "outputId": "a3c8749e-d373-4fe8-d11f-629a753a2d92"
      },
      "source": [
        "y_test = y_test.values.ravel()\n",
        "y_test"
      ],
      "execution_count": 16,
      "outputs": [
        {
          "output_type": "execute_result",
          "data": {
            "text/plain": [
              "array([19.5446325, 32.2604175, 20.0155875, ..., 20.72202  , 28.4927775,\n",
              "       25.1960925])"
            ]
          },
          "metadata": {},
          "execution_count": 16
        }
      ]
    },
    {
      "cell_type": "code",
      "metadata": {
        "colab": {
          "base_uri": "https://localhost:8080/"
        },
        "id": "MXSmObkk6PFN",
        "outputId": "e14f66da-0995-4c2d-cf44-0bcd879d1e9f"
      },
      "source": [
        "# importing regression model \n",
        "from sklearn.svm import SVR\n",
        "\n",
        "#Creating an instance or object of the support vector machine regressor class\n",
        "SVReg = SVR(kernel= 'rbf') # It must be one of 'linear', 'poly', 'rbf', 'sigmoid' (rbf - Radial Basis Function is used in machine learning to find a non-linear regression line.)\n",
        "\n",
        "# fitting the regression model to the training dataset\n",
        "SVReg.fit(X_train, y_train) #Fit the SVM model according to the given training data."
      ],
      "execution_count": 17,
      "outputs": [
        {
          "output_type": "execute_result",
          "data": {
            "text/plain": [
              "SVR()"
            ]
          },
          "metadata": {},
          "execution_count": 17
        }
      ]
    },
    {
      "cell_type": "markdown",
      "metadata": {
        "id": "QvZrtFgP1-7c"
      },
      "source": [
        "Three hyperparameters for the SVR function are Epsilon, C and Gamma.\n",
        "\n",
        "Epsilon represents the **maximum error allowed in the function**, and determines the desired accuracy of the model. A smaller ϵ indicates that a more accurate model is required. \n",
        "\n",
        "Parameters C is used to **set the tolerance for points which fall outside of the error boundaries set by ϵ**. A larger value for C indicates a larger tolerance for points outside of ϵ.\n",
        "\n",
        "The gamma parameter defines the **influence of a single point on the model**. A low value indicates that points have a far reach, meaning that also points that are situated far away from the regression line are taken into account. A low value results in a more linear regression line. On the other hand, a high value for gamma indicates that points have a close reach, which results in a more complex or wobbly line around the nearby points. With default 'scale', the value of gamma is 1 / (n_features * X.var())."
      ]
    },
    {
      "cell_type": "code",
      "metadata": {
        "id": "8j0uwXfRzWUV",
        "colab": {
          "base_uri": "https://localhost:8080/"
        },
        "outputId": "4bb7352c-b56d-4c8f-adb5-93a74ef33fe7"
      },
      "source": [
        "# predicting on the training data\n",
        "Predicted_Train= SVReg.predict(X_train)\n",
        "Predicted_Train"
      ],
      "execution_count": 18,
      "outputs": [
        {
          "output_type": "execute_result",
          "data": {
            "text/plain": [
              "array([23.33747534, 23.52037698, 23.57941113, ..., 23.3715236 ,\n",
              "       23.38476265, 23.42220531])"
            ]
          },
          "metadata": {},
          "execution_count": 18
        }
      ]
    },
    {
      "cell_type": "code",
      "metadata": {
        "id": "OZNnOnuy6PIN",
        "colab": {
          "base_uri": "https://localhost:8080/"
        },
        "outputId": "775a9d3f-03ac-43a6-8d85-955bacd694c3"
      },
      "source": [
        "# To evaluate the performance of the model, importing error metrics function\n",
        "from sklearn.metrics import r2_score #(coefficient of determination) regression score function.\n",
        "from sklearn.metrics import mean_squared_error #The MSE indicates the average distance of the best fit regression line to the observed values.\n",
        "\n",
        "print(r2_score(y_train,Predicted_Train))\n",
        "print(mean_squared_error(y_train,Predicted_Train))"
      ],
      "execution_count": 19,
      "outputs": [
        {
          "output_type": "stream",
          "name": "stdout",
          "text": [
            "0.01964854734223298\n",
            "39.16973198670731\n"
          ]
        }
      ]
    },
    {
      "cell_type": "markdown",
      "metadata": {
        "id": "8V-U4f-Q34BQ"
      },
      "source": [
        "##Scaling to improve the model performance\n",
        "Scaling is used to bring all features to the same level of magnitudes. Without scaling, the features with high magnitudes will have more weight in the ‘best fit’ calculation, which tries to minimize the distance between the fit line and the observed values (Asaithambi, 2017)."
      ]
    },
    {
      "cell_type": "code",
      "metadata": {
        "id": "hujoQXQgwFoz"
      },
      "source": [
        "# Import the required packages\n",
        "from sklearn.preprocessing import StandardScaler #standardizes the data to a range in which the mean is equal to 0 and the standard deviation is 1. It assumes the data is normally distributed.\n",
        "from sklearn.preprocessing import MinMaxScaler #normalizes the data and brings the values between 0 (lowest value) and 1 (highest value)\n",
        "from sklearn.preprocessing import RobustScaler #standardizes the data. But is more robust to outliers because it only scales the data according to the Interquartile Range (IQR) between the 1st and 3rd quartile.\n",
        "\n",
        "#Generate the scaler\n",
        "sc1= StandardScaler()\n",
        "sc2= MinMaxScaler()\n",
        "sc3= RobustScaler()"
      ],
      "execution_count": 20,
      "outputs": []
    },
    {
      "cell_type": "code",
      "metadata": {
        "id": "N7iKtahXxwKn"
      },
      "source": [
        "#Scaling the input data\n",
        "X1 = sc1.fit_transform(knmi_updated)\n",
        "X2 = sc2.fit_transform(knmi_updated)\n",
        "X3 = sc3.fit_transform(knmi_updated)\n",
        "\n",
        "#We do not need to scale the output data as we have only one output."
      ],
      "execution_count": 21,
      "outputs": []
    },
    {
      "cell_type": "code",
      "metadata": {
        "colab": {
          "base_uri": "https://localhost:8080/",
          "height": 407
        },
        "id": "ozDZOC7a-KKu",
        "outputId": "134cc74f-470f-4a49-9cb9-577e17f4e722"
      },
      "source": [
        "#plotting to visually explore the scaled features\n",
        "sns.distplot(X1,color=\"red\",label=\"StdScaler\")\n",
        "sns.distplot(X2,color=\"blue\",label=\"MinMax\")\n",
        "sns.distplot(X3,color=\"black\",label=\"RobustScaler\")\n",
        "plt.legend()"
      ],
      "execution_count": 22,
      "outputs": [
        {
          "output_type": "stream",
          "name": "stderr",
          "text": [
            "/usr/local/lib/python3.7/dist-packages/seaborn/distributions.py:2619: FutureWarning: `distplot` is a deprecated function and will be removed in a future version. Please adapt your code to use either `displot` (a figure-level function with similar flexibility) or `histplot` (an axes-level function for histograms).\n",
            "  warnings.warn(msg, FutureWarning)\n",
            "/usr/local/lib/python3.7/dist-packages/seaborn/distributions.py:2619: FutureWarning: `distplot` is a deprecated function and will be removed in a future version. Please adapt your code to use either `displot` (a figure-level function with similar flexibility) or `histplot` (an axes-level function for histograms).\n",
            "  warnings.warn(msg, FutureWarning)\n",
            "/usr/local/lib/python3.7/dist-packages/seaborn/distributions.py:2619: FutureWarning: `distplot` is a deprecated function and will be removed in a future version. Please adapt your code to use either `displot` (a figure-level function with similar flexibility) or `histplot` (an axes-level function for histograms).\n",
            "  warnings.warn(msg, FutureWarning)\n"
          ]
        },
        {
          "output_type": "execute_result",
          "data": {
            "text/plain": [
              "<matplotlib.legend.Legend at 0x7f3eb704c450>"
            ]
          },
          "metadata": {},
          "execution_count": 22
        },
        {
          "output_type": "display_data",
          "data": {
            "text/plain": [
              "<Figure size 432x288 with 1 Axes>"
            ],
            "image/png": "[encoded data removed]"
          },
          "metadata": {
            "needs_background": "light"
          }
        }
      ]
    },
    {
      "cell_type": "code",
      "metadata": {
        "id": "XRtk0bHTgoQp"
      },
      "source": [
        "#Split your data set into training (80%) and test data (20%)\n",
        "X_train, X_test, y_train, y_test = train_test_split(X1, Energy, test_size=0.2, random_state=0, shuffle= \"False\")\n",
        "y_train = y_train.values.ravel()\n",
        "y_test = y_test.values.ravel()"
      ],
      "execution_count": 23,
      "outputs": []
    },
    {
      "cell_type": "code",
      "metadata": {
        "colab": {
          "base_uri": "https://localhost:8080/"
        },
        "id": "sWHIv-8DgoNe",
        "outputId": "f7064ede-256e-4dad-f37c-2cc86b791c17"
      },
      "source": [
        "#building the regressor and fit the training data to the regressor\n",
        "regr = SVR(kernel='rbf')\n",
        "regr= regr.fit(X_train, y_train)\n",
        "regr"
      ],
      "execution_count": 24,
      "outputs": [
        {
          "output_type": "execute_result",
          "data": {
            "text/plain": [
              "SVR()"
            ]
          },
          "metadata": {},
          "execution_count": 24
        }
      ]
    },
    {
      "cell_type": "code",
      "metadata": {
        "id": "vtpkE66KgoKk"
      },
      "source": [
        "# fitting the regression model to the training data\n",
        "regr.fit(X_train, y_train) #Fit the SVM model according to the given training data.\n",
        "# predicting on the training data\n",
        "predict_train= regr.predict(X_train)"
      ],
      "execution_count": 25,
      "outputs": []
    },
    {
      "cell_type": "code",
      "metadata": {
        "colab": {
          "base_uri": "https://localhost:8080/"
        },
        "id": "BJ7qRgTugoHe",
        "outputId": "c8c77dca-ea20-434b-edd4-ad2264176391"
      },
      "source": [
        "#testing the model training accuracy \n",
        "print(r2_score(y_train, predict_train))\n",
        "print(mean_squared_error(y_train, predict_train))"
      ],
      "execution_count": 26,
      "outputs": [
        {
          "output_type": "stream",
          "name": "stdout",
          "text": [
            "0.8676607662388549\n",
            "5.287585695616701\n"
          ]
        }
      ]
    },
    {
      "cell_type": "code",
      "metadata": {
        "colab": {
          "base_uri": "https://localhost:8080/"
        },
        "id": "tVgmlz7AgoE3",
        "outputId": "32d4c043-f2e6-4b3b-e6ce-a2f26e4e7e8b"
      },
      "source": [
        "#Predicting on the test data\n",
        "pred= regr.predict(X_test)\n",
        "##testing the models accuracy on the test data\n",
        "print(r2_score(y_test, pred))\n",
        "print(mean_squared_error(y_test, pred))"
      ],
      "execution_count": 27,
      "outputs": [
        {
          "output_type": "stream",
          "name": "stdout",
          "text": [
            "0.865011398619708\n",
            "5.364047670294079\n"
          ]
        }
      ]
    },
    {
      "cell_type": "markdown",
      "metadata": {
        "id": "DEoR8cdOA2G3"
      },
      "source": [
        "Now we test for MinMax scaling"
      ]
    },
    {
      "cell_type": "code",
      "metadata": {
        "colab": {
          "base_uri": "https://localhost:8080/"
        },
        "id": "xuh2BwOwiJr5",
        "outputId": "78132274-b224-4dec-f3d8-b23353785c84"
      },
      "source": [
        "#Split your data set into training (80%) and test data (20%)\n",
        "X_train, X_test, y_train, y_test = train_test_split(X2, Energy, test_size=0.2, random_state=0, shuffle= \"False\")\n",
        "y_train = y_train.values.ravel()\n",
        "y_test = y_test.values.ravel()\n",
        "\n",
        "#building the regressor and fit the training data to the regressor\n",
        "regr = SVR(kernel='rbf')\n",
        "regr= regr.fit(X_train, y_train)\n",
        "\n",
        "# fitting the regression model to the training data\n",
        "regr.fit(X_train, y_train) #Fit the SVM model according to the given training data.\n",
        "# predicting on the training data\n",
        "predict_train= regr.predict(X_train)\n",
        "\n",
        "#testing the model training accuracy \n",
        "print(r2_score(y_train, predict_train))\n",
        "print(mean_squared_error(y_train, predict_train))"
      ],
      "execution_count": 28,
      "outputs": [
        {
          "output_type": "stream",
          "name": "stdout",
          "text": [
            "0.8543589078950263\n",
            "5.819058592240028\n"
          ]
        }
      ]
    },
    {
      "cell_type": "code",
      "metadata": {
        "colab": {
          "base_uri": "https://localhost:8080/"
        },
        "id": "k03JyATOiJoN",
        "outputId": "9d53221b-6e83-485e-b963-4e0e25dc0a13"
      },
      "source": [
        "#Predicting on the test data\n",
        "pred= regr.predict(X_test)\n",
        "##testing the models accuracy on the test data\n",
        "print(r2_score(y_test, pred))\n",
        "print(mean_squared_error(y_test, pred))"
      ],
      "execution_count": 29,
      "outputs": [
        {
          "output_type": "stream",
          "name": "stdout",
          "text": [
            "0.8514063183174978\n",
            "5.904673312407657\n"
          ]
        }
      ]
    },
    {
      "cell_type": "markdown",
      "metadata": {
        "id": "ue8G1F9BBKoh"
      },
      "source": [
        "Finally, we test for Robust scaling"
      ]
    },
    {
      "cell_type": "code",
      "metadata": {
        "colab": {
          "base_uri": "https://localhost:8080/"
        },
        "id": "F81LNQaiBIIw",
        "outputId": "fe0aefb7-4536-41ce-e7e4-40b03eaaa239"
      },
      "source": [
        "#Split your data set into training (80%) and test data (20%)\n",
        "X_train, X_test, y_train, y_test = train_test_split(X3, Energy, test_size=0.2, random_state=0, shuffle= \"False\")\n",
        "y_train = y_train.values.ravel()\n",
        "y_test = y_test.values.ravel()\n",
        "\n",
        "#building the regressor and fit the training data to the regressor\n",
        "regr = SVR(kernel='rbf')\n",
        "regr= regr.fit(X_train, y_train)\n",
        "\n",
        "# fitting the regression model to the training data\n",
        "regr.fit(X_train, y_train) #Fit the SVM model according to the given training data.\n",
        "# predicting on the training data\n",
        "predict_train= regr.predict(X_train)\n",
        "\n",
        "#testing the model training accuracy \n",
        "print(r2_score(y_train, predict_train))\n",
        "print(mean_squared_error(y_train, predict_train))"
      ],
      "execution_count": 30,
      "outputs": [
        {
          "output_type": "stream",
          "name": "stdout",
          "text": [
            "0.861376711378752\n",
            "5.538663759501534\n"
          ]
        }
      ]
    },
    {
      "cell_type": "code",
      "metadata": {
        "colab": {
          "base_uri": "https://localhost:8080/"
        },
        "id": "hjQvV0hRBbJB",
        "outputId": "8c50d0f9-9b24-48ab-e4dd-35b8734ab4c2"
      },
      "source": [
        "#Predicting on the test data\n",
        "pred= regr.predict(X_test)\n",
        "##testing the models accuracy on the test data\n",
        "print(r2_score(y_test, pred))\n",
        "print(mean_squared_error(y_test, pred))"
      ],
      "execution_count": 31,
      "outputs": [
        {
          "output_type": "stream",
          "name": "stdout",
          "text": [
            "0.8581322813412404\n",
            "5.637403439847455\n"
          ]
        }
      ]
    },
    {
      "cell_type": "markdown",
      "metadata": {
        "id": "tpbJAz9-Bgxu"
      },
      "source": [
        "We observe that, when the R2 value increases and RMS error decreases from the previous model, we get a better performing model. Therefore, Standard scaler is the best fit for our model which can explain 86.78% of the variance of the training dataset and 86.52% of the variance of the test dataset. The prediction accuracy will vary +-2.3 (root mean squared error of 5.5).\n",
        "##Same way we can compare between different karnels"
      ]
    },
    {
      "cell_type": "code",
      "metadata": {
        "colab": {
          "base_uri": "https://localhost:8080/"
        },
        "id": "hjIpQ4FABdeY",
        "outputId": "26b13a47-d996-444c-ed9b-586e04be2e03"
      },
      "source": [
        "#Split your data set into training (80%) and test data (20%)\n",
        "X_train, X_test, y_train, y_test = train_test_split(X1, Energy, test_size=0.2, random_state=0, shuffle= \"False\")\n",
        "y_train = y_train.values.ravel()\n",
        "y_test = y_test.values.ravel()\n",
        "\n",
        "#building the regressor and fit the training data to the regressor\n",
        "regr = SVR(kernel='poly', degree=5) # y = ax5 + bx4 + cx3 + dx2 + ex + f\n",
        "\n",
        "# fitting the regression model to the training data\n",
        "regr.fit(X_train, y_train) #Fit the SVM model according to the given training data.\n",
        "# predicting on the training data\n",
        "predict_train= regr.predict(X_train)\n",
        "\n",
        "#testing the model training accuracy \n",
        "print(r2_score(y_train, predict_train))\n",
        "print(mean_squared_error(y_train, predict_train))"
      ],
      "execution_count": 32,
      "outputs": [
        {
          "output_type": "stream",
          "name": "stdout",
          "text": [
            "0.6243431637454044\n",
            "15.009288306939018\n"
          ]
        }
      ]
    },
    {
      "cell_type": "markdown",
      "metadata": {
        "id": "5sWhhBBqD0v5"
      },
      "source": [
        "###We see, rbf (radial basis Function) kernel performed better.\n",
        "Now we can check the performance of the model by introducing other features which we removed earlier. The weather parameters used did not include the dew point temperature (TD), relative humidity (U), Duration of perception (DR) and Wind Gust (FX). We have assessed with lower number of varaibles. Adding extra variables may improve the performance of the model.\n",
        "Only parameter U is left out of the regression model, as U and RH (Hourly Sum of Precipitation) have a correlation of 100%. As a result, including only one of the two parameters in the model is sufficient."
      ]
    },
    {
      "cell_type": "code",
      "metadata": {
        "id": "8k38gW0TSaCt"
      },
      "source": [
        "X4 = sc1.fit_transform(knmi.loc[:, ~knmi.columns.isin([\"U\"])])"
      ],
      "execution_count": 33,
      "outputs": []
    },
    {
      "cell_type": "code",
      "metadata": {
        "id": "b0haCtzTYShD",
        "colab": {
          "base_uri": "https://localhost:8080/"
        },
        "outputId": "e1a69a2c-7092-43e6-eaf3-b4b47c53151b"
      },
      "source": [
        "#We redefine the data for standard scaling and split into training (80%) and test data (20%)\n",
        "X_train, X_test, y_train, y_test = train_test_split(X4, Energy, test_size=0.2, random_state=0, shuffle= \"False\")\n",
        "y_train = y_train.values.ravel()\n",
        "y_test = y_test.values.ravel()\n",
        "\n",
        "#building the regressor and fit the training data to the regressor\n",
        "regr = SVR(kernel='rbf')\n",
        "regr= regr.fit(X_train, y_train)\n",
        "\n",
        "# fitting the regression model to the training data\n",
        "regr.fit(X_train, y_train) #Fit the SVM model according to the given training data.\n",
        "# predicting on the training data\n",
        "predict_train= regr.predict(X_train)\n",
        "\n",
        "#testing the model training accuracy \n",
        "print(r2_score(y_train, predict_train))\n",
        "print(mean_squared_error(y_train, predict_train))"
      ],
      "execution_count": 34,
      "outputs": [
        {
          "output_type": "stream",
          "name": "stdout",
          "text": [
            "0.8692363907335192\n",
            "5.224631956934131\n"
          ]
        }
      ]
    },
    {
      "cell_type": "code",
      "metadata": {
        "colab": {
          "base_uri": "https://localhost:8080/"
        },
        "id": "2gCokt6HY2ys",
        "outputId": "2bff1a63-2a35-4886-a95a-7cbc504dc392"
      },
      "source": [
        "#Predicting on the test data\n",
        "pred= regr.predict(X_test)\n",
        "##testing the models accuracy on the test data\n",
        "print(r2_score(y_test, pred))\n",
        "print(mean_squared_error(y_test, pred))"
      ],
      "execution_count": 35,
      "outputs": [
        {
          "output_type": "stream",
          "name": "stdout",
          "text": [
            "0.8656435535968942\n",
            "5.338927701659932\n"
          ]
        }
      ]
    },
    {
      "cell_type": "markdown",
      "metadata": {
        "id": "5-WK7F6uWTL1"
      },
      "source": [
        "We see the improvement of the prediction accuracy. A model in which all weather variables are taken into account returns the best results, despite the low correlation between the added parameters with the energy demand."
      ]
    },
    {
      "cell_type": "code",
      "metadata": {
        "colab": {
          "base_uri": "https://localhost:8080/",
          "height": 268
        },
        "id": "uHEvdReBSZ_o",
        "outputId": "df422a8f-75e0-42e3-81a7-7e2634ec2afe"
      },
      "source": [
        "plt.figure(figsize = (20,5))\n",
        "plt.plot(y_test, label=\"Original\")\n",
        "plt.plot(pred, label=\"Predicted\")\n",
        "plt.legend(loc='best')\n",
        "plt.xlabel('Time (Hours)')\n",
        "plt.ylabel('kWh')"
      ],
      "execution_count": 36,
      "outputs": [
        {
          "output_type": "execute_result",
          "data": {
            "text/plain": [
              "Text(0, 0.5, 'kWh')"
            ]
          },
          "metadata": {},
          "execution_count": 36
        },
        {
          "output_type": "display_data",
          "data": {
            "text/plain": [
              "<Figure size 1440x360 with 1 Axes>"
            ],
            "image/png": "[encoded data removed]"
          },
          "metadata": {
            "needs_background": "light"
          }
        }
      ]
    },
    {
      "cell_type": "markdown",
      "metadata": {
        "id": "G-IMPYrlLBbH"
      },
      "source": [
        "We see the adjusted hyper aprameter performs better than the default settings. \n",
        "###Check the RF regressor model performance"
      ]
    },
    {
      "cell_type": "code",
      "metadata": {
        "id": "yR4gici5PYhv",
        "colab": {
          "base_uri": "https://localhost:8080/"
        },
        "outputId": "cddc6c0c-fab8-41eb-f591-e84f49d7a946"
      },
      "source": [
        "#importing the ensemble module for the random forest regressor from sklearn library\n",
        "from sklearn.ensemble import RandomForestRegressor\n",
        "\n",
        "# Creating an instance of the random forest regressor\n",
        "RFReg = RandomForestRegressor(max_depth=12, random_state=0)\n",
        "\n",
        "# fitting the regression model to the training data\n",
        "X_train2, X_test2, y_train2, y_test2 = train_test_split(X1, Energy, test_size=0.2, random_state=0, shuffle= \"False\")\n",
        "y_train2 = y_train2.values.ravel()\n",
        "y_test2 = y_test2.values.ravel()\n",
        "RFReg.fit(X_train2, y_train2)\n",
        "\n",
        "#Predicting on the training data\n",
        "Predicted_Train2= RFReg.predict(X_train2)\n",
        "\n",
        "#Caculating R2 score and Root mean square error\n",
        "print(r2_score(y_train2, Predicted_Train2))\n",
        "print(mean_squared_error(y_train2, Predicted_Train2))"
      ],
      "execution_count": 37,
      "outputs": [
        {
          "output_type": "stream",
          "name": "stdout",
          "text": [
            "0.9433647326769188\n",
            "2.26284995654006\n"
          ]
        }
      ]
    },
    {
      "cell_type": "code",
      "metadata": {
        "colab": {
          "base_uri": "https://localhost:8080/"
        },
        "id": "DB87j38w2UMy",
        "outputId": "b23aab83-93a2-43b0-9591-e9a0847eca37"
      },
      "source": [
        "#importing the ensemble module for the random forest regressor from sklearn library\n",
        "from sklearn.ensemble import RandomForestRegressor\n",
        "\n",
        "# Creating an instance of the random forest regressor\n",
        "RFReg = RandomForestRegressor(max_depth=12, random_state=0)\n",
        "\n",
        "# fitting the regression model to the training data\n",
        "X_train2, X_test2, y_train2, y_test2 = train_test_split(X4, Energy, test_size=0.2, random_state=0, shuffle= \"False\")\n",
        "y_train2 = y_train2.values.ravel()\n",
        "y_test2 = y_test2.values.ravel()\n",
        "RFReg.fit(X_train2, y_train2)\n",
        "\n",
        "#Predicting on the training data\n",
        "Predicted_Train2= RFReg.predict(X_train2)\n",
        "\n",
        "#Caculating R2 score and Root mean square error\n",
        "print(r2_score(y_train2, Predicted_Train2))\n",
        "print(mean_squared_error(y_train2, Predicted_Train2))"
      ],
      "execution_count": 38,
      "outputs": [
        {
          "output_type": "stream",
          "name": "stdout",
          "text": [
            "0.9413680428300156\n",
            "2.3426272710447176\n"
          ]
        }
      ]
    },
    {
      "cell_type": "code",
      "metadata": {
        "id": "vYrdilTSRiZw",
        "colab": {
          "base_uri": "https://localhost:8080/",
          "height": 279
        },
        "outputId": "5e8099c5-64bf-4bf9-de49-f40e4a9479a2"
      },
      "source": [
        "# Lets visualise our fit to the training data.\n",
        "plt.plot(y_train2, color=\"b\",label= 'Original Data')\n",
        "plt.plot(Predicted_Train2, color =\"red\", label=\"RFReg predicted data\")\n",
        "plt.xlabel('Time (Hours)')\n",
        "plt.ylabel('kWh')\n",
        "plt.legend(loc='best')\n",
        "plt.show()"
      ],
      "execution_count": 39,
      "outputs": [
        {
          "output_type": "display_data",
          "data": {
            "text/plain": [
              "<Figure size 432x288 with 1 Axes>"
            ],
            "image/png": "[encoded data removed]"
          },
          "metadata": {
            "needs_background": "light"
          }
        }
      ]
    },
    {
      "cell_type": "code",
      "metadata": {
        "id": "LDGQLXfNS-qY",
        "colab": {
          "base_uri": "https://localhost:8080/"
        },
        "outputId": "e861bf3b-e756-466a-ab59-b271fac9beaf"
      },
      "source": [
        "#Predicting on the test set (X_test)\n",
        "Predicted_Test2 = RFReg.predict(X_test2)\n",
        "\n",
        "#Caculating R2 score and Root mean square error\n",
        "print(r2_score(y_test2,Predicted_Test2))\n",
        "print(mean_squared_error(y_test2,Predicted_Test2))"
      ],
      "execution_count": 40,
      "outputs": [
        {
          "output_type": "stream",
          "name": "stdout",
          "text": [
            "0.8914761615776285\n",
            "4.312416283363921\n"
          ]
        }
      ]
    },
    {
      "cell_type": "code",
      "metadata": {
        "id": "I59POyhMUyhw",
        "colab": {
          "base_uri": "https://localhost:8080/",
          "height": 297
        },
        "outputId": "536e8f66-ca04-4825-a8b2-fdf97e87a433"
      },
      "source": [
        "# Lets visualise our fit to the test data.\n",
        "plt.plot(y_test2, color='blue', label=\"Actual\")\n",
        "plt.plot(Predicted_Test2, color='Red', label=\"Predicted\")\n",
        "plt.xlabel('Time (Hours)')\n",
        "plt.ylabel('kWh')\n",
        "plt.legend(loc='best')"
      ],
      "execution_count": 41,
      "outputs": [
        {
          "output_type": "execute_result",
          "data": {
            "text/plain": [
              "<matplotlib.legend.Legend at 0x7f3eaf985b90>"
            ]
          },
          "metadata": {},
          "execution_count": 41
        },
        {
          "output_type": "display_data",
          "data": {
            "text/plain": [
              "<Figure size 432x288 with 1 Axes>"
            ],
            "image/png": "[encoded data removed]"
          },
          "metadata": {
            "needs_background": "light"
          }
        }
      ]
    },
    {
      "cell_type": "markdown",
      "metadata": {
        "id": "Hiv9eZRfWLMZ"
      },
      "source": [
        "#Allocate budget using predictive modeling\n",
        "With the help of energy price and predicted demand, we can calculate the estimated cost of energy for the month of January. Now we have a trained model. "
      ]
    },
    {
      "cell_type": "code",
      "metadata": {
        "id": "Bi2A_k7NWvYw",
        "colab": {
          "base_uri": "https://localhost:8080/",
          "height": 423
        },
        "outputId": "c0c9f256-d2c2-47d3-9650-2736560dcb40"
      },
      "source": [
        "# Import the weather cost file\n",
        "path= \"/content/Weather_Cost.xlsx\"\n",
        "weather_cost = pd.read_excel(path)\n",
        "weather_cost"
      ],
      "execution_count": 42,
      "outputs": [
        {
          "output_type": "execute_result",
          "data": {
            "text/plain": [
              "                   Time  month  HH  TD   U  Temp  RH  Q  DR  FF  FX      P\n",
              "0   2019-01-01 00:00:00      1   1  68  96    73   1  0   6  40  90  10323\n",
              "1   2019-01-01 01:00:00      1   2  65  94    74  -1  0   0  40  70  10320\n",
              "2   2019-01-01 02:00:00      1   3  63  93    73   0  0   0  40  70  10314\n",
              "3   2019-01-01 03:00:00      1   4  61  92    73   0  0   0  50  60  10308\n",
              "4   2019-01-01 04:00:00      1   5  58  92    69   0  0   0  50  70  10299\n",
              "..                  ...    ...  ..  ..  ..   ...  .. ..  ..  ..  ..    ...\n",
              "739 2019-01-31 19:00:00      1  20 -24  93   -15   0  0   0  30  60   9929\n",
              "740 2019-01-31 20:00:00      1  21 -22  95   -15   0  0   0  30  60   9920\n",
              "741 2019-01-31 21:00:00      1  22 -24  91   -11   0  0   0  40  70   9911\n",
              "742 2019-01-31 22:00:00      1  23 -25  87    -6   0  0   0  50  80   9900\n",
              "743 2019-01-31 23:00:00      1  24 -25  86    -4   0  0   0  50  90   9893\n",
              "\n",
              "[744 rows x 12 columns]"
            ],
            "text/html": [
              "\n",
              "  <div id=\"df-4222f8df-17b3-4a80-8e2b-987d58ef0a75\">\n",
              "    <div class=\"colab-df-container\">\n",
              "      <div>\n",
              "<style scoped>\n",
              "    .dataframe tbody tr th:only-of-type {\n",
              "        vertical-align: middle;\n",
              "    }\n",
              "\n",
              "    .dataframe tbody tr th {\n",
              "        vertical-align: top;\n",
              "    }\n",
              "\n",
              "    .dataframe thead th {\n",
              "        text-align: right;\n",
              "    }\n",
              "</style>\n",
              "<table border=\"1\" class=\"dataframe\">\n",
              "  <thead>\n",
              "    <tr style=\"text-align: right;\">\n",
              "      <th></th>\n",
              "      <th>Time</th>\n",
              "      <th>month</th>\n",
              "      <th>HH</th>\n",
              "      <th>TD</th>\n",
              "      <th>U</th>\n",
              "      <th>Temp</th>\n",
              "      <th>RH</th>\n",
              "      <th>Q</th>\n",
              "      <th>DR</th>\n",
              "      <th>FF</th>\n",
              "      <th>FX</th>\n",
              "      <th>P</th>\n",
              "    </tr>\n",
              "  </thead>\n",
              "  <tbody>\n",
              "    <tr>\n",
              "      <th>0</th>\n",
              "      <td>2019-01-01 00:00:00</td>\n",
              "      <td>1</td>\n",
              "      <td>1</td>\n",
              "      <td>68</td>\n",
              "      <td>96</td>\n",
              "      <td>73</td>\n",
              "      <td>1</td>\n",
              "      <td>0</td>\n",
              "      <td>6</td>\n",
              "      <td>40</td>\n",
              "      <td>90</td>\n",
              "      <td>10323</td>\n",
              "    </tr>\n",
              "    <tr>\n",
              "      <th>1</th>\n",
              "      <td>2019-01-01 01:00:00</td>\n",
              "      <td>1</td>\n",
              "      <td>2</td>\n",
              "      <td>65</td>\n",
              "      <td>94</td>\n",
              "      <td>74</td>\n",
              "      <td>-1</td>\n",
              "      <td>0</td>\n",
              "      <td>0</td>\n",
              "      <td>40</td>\n",
              "      <td>70</td>\n",
              "      <td>10320</td>\n",
              "    </tr>\n",
              "    <tr>\n",
              "      <th>2</th>\n",
              "      <td>2019-01-01 02:00:00</td>\n",
              "      <td>1</td>\n",
              "      <td>3</td>\n",
              "      <td>63</td>\n",
              "      <td>93</td>\n",
              "      <td>73</td>\n",
              "      <td>0</td>\n",
              "      <td>0</td>\n",
              "      <td>0</td>\n",
              "      <td>40</td>\n",
              "      <td>70</td>\n",
              "      <td>10314</td>\n",
              "    </tr>\n",
              "    <tr>\n",
              "      <th>3</th>\n",
              "      <td>2019-01-01 03:00:00</td>\n",
              "      <td>1</td>\n",
              "      <td>4</td>\n",
              "      <td>61</td>\n",
              "      <td>92</td>\n",
              "      <td>73</td>\n",
              "      <td>0</td>\n",
              "      <td>0</td>\n",
              "      <td>0</td>\n",
              "      <td>50</td>\n",
              "      <td>60</td>\n",
              "      <td>10308</td>\n",
              "    </tr>\n",
              "    <tr>\n",
              "      <th>4</th>\n",
              "      <td>2019-01-01 04:00:00</td>\n",
              "      <td>1</td>\n",
              "      <td>5</td>\n",
              "      <td>58</td>\n",
              "      <td>92</td>\n",
              "      <td>69</td>\n",
              "      <td>0</td>\n",
              "      <td>0</td>\n",
              "      <td>0</td>\n",
              "      <td>50</td>\n",
              "      <td>70</td>\n",
              "      <td>10299</td>\n",
              "    </tr>\n",
              "    <tr>\n",
              "      <th>...</th>\n",
              "      <td>...</td>\n",
              "      <td>...</td>\n",
              "      <td>...</td>\n",
              "      <td>...</td>\n",
              "      <td>...</td>\n",
              "      <td>...</td>\n",
              "      <td>...</td>\n",
              "      <td>...</td>\n",
              "      <td>...</td>\n",
              "      <td>...</td>\n",
              "      <td>...</td>\n",
              "      <td>...</td>\n",
              "    </tr>\n",
              "    <tr>\n",
              "      <th>739</th>\n",
              "      <td>2019-01-31 19:00:00</td>\n",
              "      <td>1</td>\n",
              "      <td>20</td>\n",
              "      <td>-24</td>\n",
              "      <td>93</td>\n",
              "      <td>-15</td>\n",
              "      <td>0</td>\n",
              "      <td>0</td>\n",
              "      <td>0</td>\n",
              "      <td>30</td>\n",
              "      <td>60</td>\n",
              "      <td>9929</td>\n",
              "    </tr>\n",
              "    <tr>\n",
              "      <th>740</th>\n",
              "      <td>2019-01-31 20:00:00</td>\n",
              "      <td>1</td>\n",
              "      <td>21</td>\n",
              "      <td>-22</td>\n",
              "      <td>95</td>\n",
              "      <td>-15</td>\n",
              "      <td>0</td>\n",
              "      <td>0</td>\n",
              "      <td>0</td>\n",
              "      <td>30</td>\n",
              "      <td>60</td>\n",
              "      <td>9920</td>\n",
              "    </tr>\n",
              "    <tr>\n",
              "      <th>741</th>\n",
              "      <td>2019-01-31 21:00:00</td>\n",
              "      <td>1</td>\n",
              "      <td>22</td>\n",
              "      <td>-24</td>\n",
              "      <td>91</td>\n",
              "      <td>-11</td>\n",
              "      <td>0</td>\n",
              "      <td>0</td>\n",
              "      <td>0</td>\n",
              "      <td>40</td>\n",
              "      <td>70</td>\n",
              "      <td>9911</td>\n",
              "    </tr>\n",
              "    <tr>\n",
              "      <th>742</th>\n",
              "      <td>2019-01-31 22:00:00</td>\n",
              "      <td>1</td>\n",
              "      <td>23</td>\n",
              "      <td>-25</td>\n",
              "      <td>87</td>\n",
              "      <td>-6</td>\n",
              "      <td>0</td>\n",
              "      <td>0</td>\n",
              "      <td>0</td>\n",
              "      <td>50</td>\n",
              "      <td>80</td>\n",
              "      <td>9900</td>\n",
              "    </tr>\n",
              "    <tr>\n",
              "      <th>743</th>\n",
              "      <td>2019-01-31 23:00:00</td>\n",
              "      <td>1</td>\n",
              "      <td>24</td>\n",
              "      <td>-25</td>\n",
              "      <td>86</td>\n",
              "      <td>-4</td>\n",
              "      <td>0</td>\n",
              "      <td>0</td>\n",
              "      <td>0</td>\n",
              "      <td>50</td>\n",
              "      <td>90</td>\n",
              "      <td>9893</td>\n",
              "    </tr>\n",
              "  </tbody>\n",
              "</table>\n",
              "<p>744 rows × 12 columns</p>\n",
              "</div>\n",
              "      <button class=\"colab-df-convert\" onclick=\"convertToInteractive('df-4222f8df-17b3-4a80-8e2b-987d58ef0a75')\"\n",
              "              title=\"Convert this dataframe to an interactive table.\"\n",
              "              style=\"display:none;\">\n",
              "        \n",
              "  <svg xmlns=\"http://www.w3.org/2000/svg\" height=\"24px\"viewBox=\"0 0 24 24\"\n",
              "       width=\"24px\">\n",
              "    <path d=\"M0 0h24v24H0V0z\" fill=\"none\"/>\n",
              "    <path d=\"M18.56 5.44l.94 2.06.94-2.06 2.06-.94-2.06-.94-.94-2.06-.94 2.06-2.06.94zm-11 1L8.5 8.5l.94-2.06 2.06-.94-2.06-.94L8.5 2.5l-.94 2.06-2.06.94zm10 10l.94 2.06.94-2.06 2.06-.94-2.06-.94-.94-2.06-.94 2.06-2.06.94z\"/><path d=\"M17.41 7.96l-1.37-1.37c-.4-.4-.92-.59-1.43-.59-.52 0-1.04.2-1.43.59L10.3 9.45l-7.72 7.72c-.78.78-.78 2.05 0 2.83L4 21.41c.39.39.9.59 1.41.59.51 0 1.02-.2 1.41-.59l7.78-7.78 2.81-2.81c.8-.78.8-2.07 0-2.86zM5.41 20L4 18.59l7.72-7.72 1.47 1.35L5.41 20z\"/>\n",
              "  </svg>\n",
              "      </button>\n",
              "      \n",
              "  <style>\n",
              "    .colab-df-container {\n",
              "      display:flex;\n",
              "      flex-wrap:wrap;\n",
              "      gap: 12px;\n",
              "    }\n",
              "\n",
              "    .colab-df-convert {\n",
              "      background-color: #E8F0FE;\n",
              "      border: none;\n",
              "      border-radius: 50%;\n",
              "      cursor: pointer;\n",
              "      display: none;\n",
              "      fill: #1967D2;\n",
              "      height: 32px;\n",
              "      padding: 0 0 0 0;\n",
              "      width: 32px;\n",
              "    }\n",
              "\n",
              "    .colab-df-convert:hover {\n",
              "      background-color: #E2EBFA;\n",
              "      box-shadow: 0px 1px 2px rgba(60, 64, 67, 0.3), 0px 1px 3px 1px rgba(60, 64, 67, 0.15);\n",
              "      fill: #174EA6;\n",
              "    }\n",
              "\n",
              "    [theme=dark] .colab-df-convert {\n",
              "      background-color: #3B4455;\n",
              "      fill: #D2E3FC;\n",
              "    }\n",
              "\n",
              "    [theme=dark] .colab-df-convert:hover {\n",
              "      background-color: #434B5C;\n",
              "      box-shadow: 0px 1px 3px 1px rgba(0, 0, 0, 0.15);\n",
              "      filter: drop-shadow(0px 1px 2px rgba(0, 0, 0, 0.3));\n",
              "      fill: #FFFFFF;\n",
              "    }\n",
              "  </style>\n",
              "\n",
              "      <script>\n",
              "        const buttonEl =\n",
              "          document.querySelector('#df-4222f8df-17b3-4a80-8e2b-987d58ef0a75 button.colab-df-convert');\n",
              "        buttonEl.style.display =\n",
              "          google.colab.kernel.accessAllowed ? 'block' : 'none';\n",
              "\n",
              "        async function convertToInteractive(key) {\n",
              "          const element = document.querySelector('#df-4222f8df-17b3-4a80-8e2b-987d58ef0a75');\n",
              "          const dataTable =\n",
              "            await google.colab.kernel.invokeFunction('convertToInteractive',\n",
              "                                                     [key], {});\n",
              "          if (!dataTable) return;\n",
              "\n",
              "          const docLinkHtml = 'Like what you see? Visit the ' +\n",
              "            '<a target=\"_blank\" href=https://colab.research.google.com/notebooks/data_table.ipynb>data table notebook</a>'\n",
              "            + ' to learn more about interactive tables.';\n",
              "          element.innerHTML = '';\n",
              "          dataTable['output_type'] = 'display_data';\n",
              "          await google.colab.output.renderOutput(dataTable, element);\n",
              "          const docLink = document.createElement('div');\n",
              "          docLink.innerHTML = docLinkHtml;\n",
              "          element.appendChild(docLink);\n",
              "        }\n",
              "      </script>\n",
              "    </div>\n",
              "  </div>\n",
              "  "
            ]
          },
          "metadata": {},
          "execution_count": 42
        }
      ]
    },
    {
      "cell_type": "code",
      "metadata": {
        "id": "pP9sQ4h-WvWY"
      },
      "source": [
        "# Make time column as index\n",
        "weather_cost = weather_cost.set_index('Time')"
      ],
      "execution_count": 43,
      "outputs": []
    },
    {
      "cell_type": "code",
      "metadata": {
        "id": "3wmrrR_LWvTn",
        "colab": {
          "base_uri": "https://localhost:8080/"
        },
        "outputId": "bf9a422b-b580-4a76-fec0-0b06bf4ebeaf"
      },
      "source": [
        "#check missing value\n",
        "weather_cost.isna().sum()"
      ],
      "execution_count": 44,
      "outputs": [
        {
          "output_type": "execute_result",
          "data": {
            "text/plain": [
              "month    0\n",
              "HH       0\n",
              "TD       0\n",
              "U        0\n",
              "Temp     0\n",
              "RH       0\n",
              "Q        0\n",
              "DR       0\n",
              "FF       0\n",
              "FX       0\n",
              "P        0\n",
              "dtype: int64"
            ]
          },
          "metadata": {},
          "execution_count": 44
        }
      ]
    },
    {
      "cell_type": "code",
      "metadata": {
        "id": "F_6dnsunWvRB"
      },
      "source": [
        "#remove relative humidity column from the data set\n",
        "weather_cost_updated= weather_cost.loc[:, ~weather_cost.columns.isin(['U'])]"
      ],
      "execution_count": 45,
      "outputs": []
    },
    {
      "cell_type": "code",
      "metadata": {
        "id": "NjyQFYtZWvOS"
      },
      "source": [
        "#scale the input data\n",
        "X5 = sc1.transform(weather_cost_updated)"
      ],
      "execution_count": 46,
      "outputs": []
    },
    {
      "cell_type": "code",
      "metadata": {
        "id": "Vop0Kvq2WvLe",
        "colab": {
          "base_uri": "https://localhost:8080/"
        },
        "outputId": "dccf5467-1448-477a-d23e-2a1a79513f2c"
      },
      "source": [
        "#predict the consumption\n",
        "predicted = RFReg.predict(X5)\n",
        "predicted.shape"
      ],
      "execution_count": 47,
      "outputs": [
        {
          "output_type": "execute_result",
          "data": {
            "text/plain": [
              "(744,)"
            ]
          },
          "metadata": {},
          "execution_count": 47
        }
      ]
    },
    {
      "cell_type": "code",
      "metadata": {
        "colab": {
          "base_uri": "https://localhost:8080/",
          "height": 423
        },
        "id": "_bKg3BJCIQxL",
        "outputId": "229c6f19-1154-4601-b3cf-58fbc6010ab4"
      },
      "source": [
        "#Converting the predicted array into a dataframe so it is easier when plotting to show the time index\n",
        "predicted= pd.DataFrame(predicted, columns=['kWh'])\n",
        "predicted"
      ],
      "execution_count": 48,
      "outputs": [
        {
          "output_type": "execute_result",
          "data": {
            "text/plain": [
              "           kWh\n",
              "0    45.327064\n",
              "1    45.305871\n",
              "2    45.320000\n",
              "3    45.506027\n",
              "4    45.334128\n",
              "..         ...\n",
              "739  22.577730\n",
              "740  22.568992\n",
              "741  22.545547\n",
              "742  22.538493\n",
              "743  22.406573\n",
              "\n",
              "[744 rows x 1 columns]"
            ],
            "text/html": [
              "\n",
              "  <div id=\"df-518792eb-7651-4f9e-a866-5c3b09756cb6\">\n",
              "    <div class=\"colab-df-container\">\n",
              "      <div>\n",
              "<style scoped>\n",
              "    .dataframe tbody tr th:only-of-type {\n",
              "        vertical-align: middle;\n",
              "    }\n",
              "\n",
              "    .dataframe tbody tr th {\n",
              "        vertical-align: top;\n",
              "    }\n",
              "\n",
              "    .dataframe thead th {\n",
              "        text-align: right;\n",
              "    }\n",
              "</style>\n",
              "<table border=\"1\" class=\"dataframe\">\n",
              "  <thead>\n",
              "    <tr style=\"text-align: right;\">\n",
              "      <th></th>\n",
              "      <th>kWh</th>\n",
              "    </tr>\n",
              "  </thead>\n",
              "  <tbody>\n",
              "    <tr>\n",
              "      <th>0</th>\n",
              "      <td>45.327064</td>\n",
              "    </tr>\n",
              "    <tr>\n",
              "      <th>1</th>\n",
              "      <td>45.305871</td>\n",
              "    </tr>\n",
              "    <tr>\n",
              "      <th>2</th>\n",
              "      <td>45.320000</td>\n",
              "    </tr>\n",
              "    <tr>\n",
              "      <th>3</th>\n",
              "      <td>45.506027</td>\n",
              "    </tr>\n",
              "    <tr>\n",
              "      <th>4</th>\n",
              "      <td>45.334128</td>\n",
              "    </tr>\n",
              "    <tr>\n",
              "      <th>...</th>\n",
              "      <td>...</td>\n",
              "    </tr>\n",
              "    <tr>\n",
              "      <th>739</th>\n",
              "      <td>22.577730</td>\n",
              "    </tr>\n",
              "    <tr>\n",
              "      <th>740</th>\n",
              "      <td>22.568992</td>\n",
              "    </tr>\n",
              "    <tr>\n",
              "      <th>741</th>\n",
              "      <td>22.545547</td>\n",
              "    </tr>\n",
              "    <tr>\n",
              "      <th>742</th>\n",
              "      <td>22.538493</td>\n",
              "    </tr>\n",
              "    <tr>\n",
              "      <th>743</th>\n",
              "      <td>22.406573</td>\n",
              "    </tr>\n",
              "  </tbody>\n",
              "</table>\n",
              "<p>744 rows × 1 columns</p>\n",
              "</div>\n",
              "      <button class=\"colab-df-convert\" onclick=\"convertToInteractive('df-518792eb-7651-4f9e-a866-5c3b09756cb6')\"\n",
              "              title=\"Convert this dataframe to an interactive table.\"\n",
              "              style=\"display:none;\">\n",
              "        \n",
              "  <svg xmlns=\"http://www.w3.org/2000/svg\" height=\"24px\"viewBox=\"0 0 24 24\"\n",
              "       width=\"24px\">\n",
              "    <path d=\"M0 0h24v24H0V0z\" fill=\"none\"/>\n",
              "    <path d=\"M18.56 5.44l.94 2.06.94-2.06 2.06-.94-2.06-.94-.94-2.06-.94 2.06-2.06.94zm-11 1L8.5 8.5l.94-2.06 2.06-.94-2.06-.94L8.5 2.5l-.94 2.06-2.06.94zm10 10l.94 2.06.94-2.06 2.06-.94-2.06-.94-.94-2.06-.94 2.06-2.06.94z\"/><path d=\"M17.41 7.96l-1.37-1.37c-.4-.4-.92-.59-1.43-.59-.52 0-1.04.2-1.43.59L10.3 9.45l-7.72 7.72c-.78.78-.78 2.05 0 2.83L4 21.41c.39.39.9.59 1.41.59.51 0 1.02-.2 1.41-.59l7.78-7.78 2.81-2.81c.8-.78.8-2.07 0-2.86zM5.41 20L4 18.59l7.72-7.72 1.47 1.35L5.41 20z\"/>\n",
              "  </svg>\n",
              "      </button>\n",
              "      \n",
              "  <style>\n",
              "    .colab-df-container {\n",
              "      display:flex;\n",
              "      flex-wrap:wrap;\n",
              "      gap: 12px;\n",
              "    }\n",
              "\n",
              "    .colab-df-convert {\n",
              "      background-color: #E8F0FE;\n",
              "      border: none;\n",
              "      border-radius: 50%;\n",
              "      cursor: pointer;\n",
              "      display: none;\n",
              "      fill: #1967D2;\n",
              "      height: 32px;\n",
              "      padding: 0 0 0 0;\n",
              "      width: 32px;\n",
              "    }\n",
              "\n",
              "    .colab-df-convert:hover {\n",
              "      background-color: #E2EBFA;\n",
              "      box-shadow: 0px 1px 2px rgba(60, 64, 67, 0.3), 0px 1px 3px 1px rgba(60, 64, 67, 0.15);\n",
              "      fill: #174EA6;\n",
              "    }\n",
              "\n",
              "    [theme=dark] .colab-df-convert {\n",
              "      background-color: #3B4455;\n",
              "      fill: #D2E3FC;\n",
              "    }\n",
              "\n",
              "    [theme=dark] .colab-df-convert:hover {\n",
              "      background-color: #434B5C;\n",
              "      box-shadow: 0px 1px 3px 1px rgba(0, 0, 0, 0.15);\n",
              "      filter: drop-shadow(0px 1px 2px rgba(0, 0, 0, 0.3));\n",
              "      fill: #FFFFFF;\n",
              "    }\n",
              "  </style>\n",
              "\n",
              "      <script>\n",
              "        const buttonEl =\n",
              "          document.querySelector('#df-518792eb-7651-4f9e-a866-5c3b09756cb6 button.colab-df-convert');\n",
              "        buttonEl.style.display =\n",
              "          google.colab.kernel.accessAllowed ? 'block' : 'none';\n",
              "\n",
              "        async function convertToInteractive(key) {\n",
              "          const element = document.querySelector('#df-518792eb-7651-4f9e-a866-5c3b09756cb6');\n",
              "          const dataTable =\n",
              "            await google.colab.kernel.invokeFunction('convertToInteractive',\n",
              "                                                     [key], {});\n",
              "          if (!dataTable) return;\n",
              "\n",
              "          const docLinkHtml = 'Like what you see? Visit the ' +\n",
              "            '<a target=\"_blank\" href=https://colab.research.google.com/notebooks/data_table.ipynb>data table notebook</a>'\n",
              "            + ' to learn more about interactive tables.';\n",
              "          element.innerHTML = '';\n",
              "          dataTable['output_type'] = 'display_data';\n",
              "          await google.colab.output.renderOutput(dataTable, element);\n",
              "          const docLink = document.createElement('div');\n",
              "          docLink.innerHTML = docLinkHtml;\n",
              "          element.appendChild(docLink);\n",
              "        }\n",
              "      </script>\n",
              "    </div>\n",
              "  </div>\n",
              "  "
            ]
          },
          "metadata": {},
          "execution_count": 48
        }
      ]
    },
    {
      "cell_type": "code",
      "metadata": {
        "colab": {
          "base_uri": "https://localhost:8080/",
          "height": 423
        },
        "id": "vEyATCzBIYh0",
        "outputId": "d650f682-5f74-4650-b39b-9153212c4e7f"
      },
      "source": [
        "#Import the index from the weather cost file\n",
        "predicted['Time']= weather_cost.index\n",
        "predicted"
      ],
      "execution_count": 49,
      "outputs": [
        {
          "output_type": "execute_result",
          "data": {
            "text/plain": [
              "           kWh                Time\n",
              "0    45.327064 2019-01-01 00:00:00\n",
              "1    45.305871 2019-01-01 01:00:00\n",
              "2    45.320000 2019-01-01 02:00:00\n",
              "3    45.506027 2019-01-01 03:00:00\n",
              "4    45.334128 2019-01-01 04:00:00\n",
              "..         ...                 ...\n",
              "739  22.577730 2019-01-31 19:00:00\n",
              "740  22.568992 2019-01-31 20:00:00\n",
              "741  22.545547 2019-01-31 21:00:00\n",
              "742  22.538493 2019-01-31 22:00:00\n",
              "743  22.406573 2019-01-31 23:00:00\n",
              "\n",
              "[744 rows x 2 columns]"
            ],
            "text/html": [
              "\n",
              "  <div id=\"df-08d32c51-2ec4-411a-9a63-bb3503bf5cb0\">\n",
              "    <div class=\"colab-df-container\">\n",
              "      <div>\n",
              "<style scoped>\n",
              "    .dataframe tbody tr th:only-of-type {\n",
              "        vertical-align: middle;\n",
              "    }\n",
              "\n",
              "    .dataframe tbody tr th {\n",
              "        vertical-align: top;\n",
              "    }\n",
              "\n",
              "    .dataframe thead th {\n",
              "        text-align: right;\n",
              "    }\n",
              "</style>\n",
              "<table border=\"1\" class=\"dataframe\">\n",
              "  <thead>\n",
              "    <tr style=\"text-align: right;\">\n",
              "      <th></th>\n",
              "      <th>kWh</th>\n",
              "      <th>Time</th>\n",
              "    </tr>\n",
              "  </thead>\n",
              "  <tbody>\n",
              "    <tr>\n",
              "      <th>0</th>\n",
              "      <td>45.327064</td>\n",
              "      <td>2019-01-01 00:00:00</td>\n",
              "    </tr>\n",
              "    <tr>\n",
              "      <th>1</th>\n",
              "      <td>45.305871</td>\n",
              "      <td>2019-01-01 01:00:00</td>\n",
              "    </tr>\n",
              "    <tr>\n",
              "      <th>2</th>\n",
              "      <td>45.320000</td>\n",
              "      <td>2019-01-01 02:00:00</td>\n",
              "    </tr>\n",
              "    <tr>\n",
              "      <th>3</th>\n",
              "      <td>45.506027</td>\n",
              "      <td>2019-01-01 03:00:00</td>\n",
              "    </tr>\n",
              "    <tr>\n",
              "      <th>4</th>\n",
              "      <td>45.334128</td>\n",
              "      <td>2019-01-01 04:00:00</td>\n",
              "    </tr>\n",
              "    <tr>\n",
              "      <th>...</th>\n",
              "      <td>...</td>\n",
              "      <td>...</td>\n",
              "    </tr>\n",
              "    <tr>\n",
              "      <th>739</th>\n",
              "      <td>22.577730</td>\n",
              "      <td>2019-01-31 19:00:00</td>\n",
              "    </tr>\n",
              "    <tr>\n",
              "      <th>740</th>\n",
              "      <td>22.568992</td>\n",
              "      <td>2019-01-31 20:00:00</td>\n",
              "    </tr>\n",
              "    <tr>\n",
              "      <th>741</th>\n",
              "      <td>22.545547</td>\n",
              "      <td>2019-01-31 21:00:00</td>\n",
              "    </tr>\n",
              "    <tr>\n",
              "      <th>742</th>\n",
              "      <td>22.538493</td>\n",
              "      <td>2019-01-31 22:00:00</td>\n",
              "    </tr>\n",
              "    <tr>\n",
              "      <th>743</th>\n",
              "      <td>22.406573</td>\n",
              "      <td>2019-01-31 23:00:00</td>\n",
              "    </tr>\n",
              "  </tbody>\n",
              "</table>\n",
              "<p>744 rows × 2 columns</p>\n",
              "</div>\n",
              "      <button class=\"colab-df-convert\" onclick=\"convertToInteractive('df-08d32c51-2ec4-411a-9a63-bb3503bf5cb0')\"\n",
              "              title=\"Convert this dataframe to an interactive table.\"\n",
              "              style=\"display:none;\">\n",
              "        \n",
              "  <svg xmlns=\"http://www.w3.org/2000/svg\" height=\"24px\"viewBox=\"0 0 24 24\"\n",
              "       width=\"24px\">\n",
              "    <path d=\"M0 0h24v24H0V0z\" fill=\"none\"/>\n",
              "    <path d=\"M18.56 5.44l.94 2.06.94-2.06 2.06-.94-2.06-.94-.94-2.06-.94 2.06-2.06.94zm-11 1L8.5 8.5l.94-2.06 2.06-.94-2.06-.94L8.5 2.5l-.94 2.06-2.06.94zm10 10l.94 2.06.94-2.06 2.06-.94-2.06-.94-.94-2.06-.94 2.06-2.06.94z\"/><path d=\"M17.41 7.96l-1.37-1.37c-.4-.4-.92-.59-1.43-.59-.52 0-1.04.2-1.43.59L10.3 9.45l-7.72 7.72c-.78.78-.78 2.05 0 2.83L4 21.41c.39.39.9.59 1.41.59.51 0 1.02-.2 1.41-.59l7.78-7.78 2.81-2.81c.8-.78.8-2.07 0-2.86zM5.41 20L4 18.59l7.72-7.72 1.47 1.35L5.41 20z\"/>\n",
              "  </svg>\n",
              "      </button>\n",
              "      \n",
              "  <style>\n",
              "    .colab-df-container {\n",
              "      display:flex;\n",
              "      flex-wrap:wrap;\n",
              "      gap: 12px;\n",
              "    }\n",
              "\n",
              "    .colab-df-convert {\n",
              "      background-color: #E8F0FE;\n",
              "      border: none;\n",
              "      border-radius: 50%;\n",
              "      cursor: pointer;\n",
              "      display: none;\n",
              "      fill: #1967D2;\n",
              "      height: 32px;\n",
              "      padding: 0 0 0 0;\n",
              "      width: 32px;\n",
              "    }\n",
              "\n",
              "    .colab-df-convert:hover {\n",
              "      background-color: #E2EBFA;\n",
              "      box-shadow: 0px 1px 2px rgba(60, 64, 67, 0.3), 0px 1px 3px 1px rgba(60, 64, 67, 0.15);\n",
              "      fill: #174EA6;\n",
              "    }\n",
              "\n",
              "    [theme=dark] .colab-df-convert {\n",
              "      background-color: #3B4455;\n",
              "      fill: #D2E3FC;\n",
              "    }\n",
              "\n",
              "    [theme=dark] .colab-df-convert:hover {\n",
              "      background-color: #434B5C;\n",
              "      box-shadow: 0px 1px 3px 1px rgba(0, 0, 0, 0.15);\n",
              "      filter: drop-shadow(0px 1px 2px rgba(0, 0, 0, 0.3));\n",
              "      fill: #FFFFFF;\n",
              "    }\n",
              "  </style>\n",
              "\n",
              "      <script>\n",
              "        const buttonEl =\n",
              "          document.querySelector('#df-08d32c51-2ec4-411a-9a63-bb3503bf5cb0 button.colab-df-convert');\n",
              "        buttonEl.style.display =\n",
              "          google.colab.kernel.accessAllowed ? 'block' : 'none';\n",
              "\n",
              "        async function convertToInteractive(key) {\n",
              "          const element = document.querySelector('#df-08d32c51-2ec4-411a-9a63-bb3503bf5cb0');\n",
              "          const dataTable =\n",
              "            await google.colab.kernel.invokeFunction('convertToInteractive',\n",
              "                                                     [key], {});\n",
              "          if (!dataTable) return;\n",
              "\n",
              "          const docLinkHtml = 'Like what you see? Visit the ' +\n",
              "            '<a target=\"_blank\" href=https://colab.research.google.com/notebooks/data_table.ipynb>data table notebook</a>'\n",
              "            + ' to learn more about interactive tables.';\n",
              "          element.innerHTML = '';\n",
              "          dataTable['output_type'] = 'display_data';\n",
              "          await google.colab.output.renderOutput(dataTable, element);\n",
              "          const docLink = document.createElement('div');\n",
              "          docLink.innerHTML = docLinkHtml;\n",
              "          element.appendChild(docLink);\n",
              "        }\n",
              "      </script>\n",
              "    </div>\n",
              "  </div>\n",
              "  "
            ]
          },
          "metadata": {},
          "execution_count": 49
        }
      ]
    },
    {
      "cell_type": "code",
      "metadata": {
        "colab": {
          "base_uri": "https://localhost:8080/",
          "height": 455
        },
        "id": "pVqnmuO6Io8Z",
        "outputId": "9adeb7e6-d949-4d7b-bd42-4953be2014a0"
      },
      "source": [
        "#Set the time column as index\n",
        "predicted= predicted.set_index('Time')\n",
        "predicted"
      ],
      "execution_count": 50,
      "outputs": [
        {
          "output_type": "execute_result",
          "data": {
            "text/plain": [
              "                           kWh\n",
              "Time                          \n",
              "2019-01-01 00:00:00  45.327064\n",
              "2019-01-01 01:00:00  45.305871\n",
              "2019-01-01 02:00:00  45.320000\n",
              "2019-01-01 03:00:00  45.506027\n",
              "2019-01-01 04:00:00  45.334128\n",
              "...                        ...\n",
              "2019-01-31 19:00:00  22.577730\n",
              "2019-01-31 20:00:00  22.568992\n",
              "2019-01-31 21:00:00  22.545547\n",
              "2019-01-31 22:00:00  22.538493\n",
              "2019-01-31 23:00:00  22.406573\n",
              "\n",
              "[744 rows x 1 columns]"
            ],
            "text/html": [
              "\n",
              "  <div id=\"df-a4d1f8a9-3c73-471c-ae35-fc6330c22cee\">\n",
              "    <div class=\"colab-df-container\">\n",
              "      <div>\n",
              "<style scoped>\n",
              "    .dataframe tbody tr th:only-of-type {\n",
              "        vertical-align: middle;\n",
              "    }\n",
              "\n",
              "    .dataframe tbody tr th {\n",
              "        vertical-align: top;\n",
              "    }\n",
              "\n",
              "    .dataframe thead th {\n",
              "        text-align: right;\n",
              "    }\n",
              "</style>\n",
              "<table border=\"1\" class=\"dataframe\">\n",
              "  <thead>\n",
              "    <tr style=\"text-align: right;\">\n",
              "      <th></th>\n",
              "      <th>kWh</th>\n",
              "    </tr>\n",
              "    <tr>\n",
              "      <th>Time</th>\n",
              "      <th></th>\n",
              "    </tr>\n",
              "  </thead>\n",
              "  <tbody>\n",
              "    <tr>\n",
              "      <th>2019-01-01 00:00:00</th>\n",
              "      <td>45.327064</td>\n",
              "    </tr>\n",
              "    <tr>\n",
              "      <th>2019-01-01 01:00:00</th>\n",
              "      <td>45.305871</td>\n",
              "    </tr>\n",
              "    <tr>\n",
              "      <th>2019-01-01 02:00:00</th>\n",
              "      <td>45.320000</td>\n",
              "    </tr>\n",
              "    <tr>\n",
              "      <th>2019-01-01 03:00:00</th>\n",
              "      <td>45.506027</td>\n",
              "    </tr>\n",
              "    <tr>\n",
              "      <th>2019-01-01 04:00:00</th>\n",
              "      <td>45.334128</td>\n",
              "    </tr>\n",
              "    <tr>\n",
              "      <th>...</th>\n",
              "      <td>...</td>\n",
              "    </tr>\n",
              "    <tr>\n",
              "      <th>2019-01-31 19:00:00</th>\n",
              "      <td>22.577730</td>\n",
              "    </tr>\n",
              "    <tr>\n",
              "      <th>2019-01-31 20:00:00</th>\n",
              "      <td>22.568992</td>\n",
              "    </tr>\n",
              "    <tr>\n",
              "      <th>2019-01-31 21:00:00</th>\n",
              "      <td>22.545547</td>\n",
              "    </tr>\n",
              "    <tr>\n",
              "      <th>2019-01-31 22:00:00</th>\n",
              "      <td>22.538493</td>\n",
              "    </tr>\n",
              "    <tr>\n",
              "      <th>2019-01-31 23:00:00</th>\n",
              "      <td>22.406573</td>\n",
              "    </tr>\n",
              "  </tbody>\n",
              "</table>\n",
              "<p>744 rows × 1 columns</p>\n",
              "</div>\n",
              "      <button class=\"colab-df-convert\" onclick=\"convertToInteractive('df-a4d1f8a9-3c73-471c-ae35-fc6330c22cee')\"\n",
              "              title=\"Convert this dataframe to an interactive table.\"\n",
              "              style=\"display:none;\">\n",
              "        \n",
              "  <svg xmlns=\"http://www.w3.org/2000/svg\" height=\"24px\"viewBox=\"0 0 24 24\"\n",
              "       width=\"24px\">\n",
              "    <path d=\"M0 0h24v24H0V0z\" fill=\"none\"/>\n",
              "    <path d=\"M18.56 5.44l.94 2.06.94-2.06 2.06-.94-2.06-.94-.94-2.06-.94 2.06-2.06.94zm-11 1L8.5 8.5l.94-2.06 2.06-.94-2.06-.94L8.5 2.5l-.94 2.06-2.06.94zm10 10l.94 2.06.94-2.06 2.06-.94-2.06-.94-.94-2.06-.94 2.06-2.06.94z\"/><path d=\"M17.41 7.96l-1.37-1.37c-.4-.4-.92-.59-1.43-.59-.52 0-1.04.2-1.43.59L10.3 9.45l-7.72 7.72c-.78.78-.78 2.05 0 2.83L4 21.41c.39.39.9.59 1.41.59.51 0 1.02-.2 1.41-.59l7.78-7.78 2.81-2.81c.8-.78.8-2.07 0-2.86zM5.41 20L4 18.59l7.72-7.72 1.47 1.35L5.41 20z\"/>\n",
              "  </svg>\n",
              "      </button>\n",
              "      \n",
              "  <style>\n",
              "    .colab-df-container {\n",
              "      display:flex;\n",
              "      flex-wrap:wrap;\n",
              "      gap: 12px;\n",
              "    }\n",
              "\n",
              "    .colab-df-convert {\n",
              "      background-color: #E8F0FE;\n",
              "      border: none;\n",
              "      border-radius: 50%;\n",
              "      cursor: pointer;\n",
              "      display: none;\n",
              "      fill: #1967D2;\n",
              "      height: 32px;\n",
              "      padding: 0 0 0 0;\n",
              "      width: 32px;\n",
              "    }\n",
              "\n",
              "    .colab-df-convert:hover {\n",
              "      background-color: #E2EBFA;\n",
              "      box-shadow: 0px 1px 2px rgba(60, 64, 67, 0.3), 0px 1px 3px 1px rgba(60, 64, 67, 0.15);\n",
              "      fill: #174EA6;\n",
              "    }\n",
              "\n",
              "    [theme=dark] .colab-df-convert {\n",
              "      background-color: #3B4455;\n",
              "      fill: #D2E3FC;\n",
              "    }\n",
              "\n",
              "    [theme=dark] .colab-df-convert:hover {\n",
              "      background-color: #434B5C;\n",
              "      box-shadow: 0px 1px 3px 1px rgba(0, 0, 0, 0.15);\n",
              "      filter: drop-shadow(0px 1px 2px rgba(0, 0, 0, 0.3));\n",
              "      fill: #FFFFFF;\n",
              "    }\n",
              "  </style>\n",
              "\n",
              "      <script>\n",
              "        const buttonEl =\n",
              "          document.querySelector('#df-a4d1f8a9-3c73-471c-ae35-fc6330c22cee button.colab-df-convert');\n",
              "        buttonEl.style.display =\n",
              "          google.colab.kernel.accessAllowed ? 'block' : 'none';\n",
              "\n",
              "        async function convertToInteractive(key) {\n",
              "          const element = document.querySelector('#df-a4d1f8a9-3c73-471c-ae35-fc6330c22cee');\n",
              "          const dataTable =\n",
              "            await google.colab.kernel.invokeFunction('convertToInteractive',\n",
              "                                                     [key], {});\n",
              "          if (!dataTable) return;\n",
              "\n",
              "          const docLinkHtml = 'Like what you see? Visit the ' +\n",
              "            '<a target=\"_blank\" href=https://colab.research.google.com/notebooks/data_table.ipynb>data table notebook</a>'\n",
              "            + ' to learn more about interactive tables.';\n",
              "          element.innerHTML = '';\n",
              "          dataTable['output_type'] = 'display_data';\n",
              "          await google.colab.output.renderOutput(dataTable, element);\n",
              "          const docLink = document.createElement('div');\n",
              "          docLink.innerHTML = docLinkHtml;\n",
              "          element.appendChild(docLink);\n",
              "        }\n",
              "      </script>\n",
              "    </div>\n",
              "  </div>\n",
              "  "
            ]
          },
          "metadata": {},
          "execution_count": 50
        }
      ]
    },
    {
      "cell_type": "code",
      "metadata": {
        "id": "wU3WOiHFWvIk",
        "colab": {
          "base_uri": "https://localhost:8080/",
          "height": 328
        },
        "outputId": "bdc6cecb-b40f-4a49-aaee-f5bd669edc0a"
      },
      "source": [
        "#Plot the hourly forecast consumption in kWh \n",
        "fig, ax = plt.subplots(figsize = (16,5))\n",
        "ax.plot(predicted,  label='Hourly Predicted consumption',color = 'blue')\n",
        "ax.set_ylabel('Hourly Predicted consumption [kWh]',size=15, color='green')\n",
        "ax.set_xlabel('Time',size=15)"
      ],
      "execution_count": 51,
      "outputs": [
        {
          "output_type": "execute_result",
          "data": {
            "text/plain": [
              "Text(0.5, 0, 'Time')"
            ]
          },
          "metadata": {},
          "execution_count": 51
        },
        {
          "output_type": "display_data",
          "data": {
            "text/plain": [
              "<Figure size 1152x360 with 1 Axes>"
            ],
            "image/png": "[encoded data removed]"
          },
          "metadata": {
            "needs_background": "light"
          }
        }
      ]
    },
    {
      "cell_type": "markdown",
      "metadata": {
        "id": "kyC2A7snfXF-"
      },
      "source": [
        "#Plot the hourly forecast consumption in kWh and calculated price for the whole month"
      ]
    },
    {
      "cell_type": "code",
      "metadata": {
        "colab": {
          "base_uri": "https://localhost:8080/",
          "height": 455
        },
        "id": "jkzcYEYzUd8m",
        "outputId": "68b24716-7787-483a-d87e-056e7fc4734e"
      },
      "source": [
        "#Calculating the hourly consumtion cost.\n",
        "Hourly_Cost= predicted*0.23\n",
        "Hourly_Cost"
      ],
      "execution_count": 52,
      "outputs": [
        {
          "output_type": "execute_result",
          "data": {
            "text/plain": [
              "                           kWh\n",
              "Time                          \n",
              "2019-01-01 00:00:00  10.425225\n",
              "2019-01-01 01:00:00  10.420350\n",
              "2019-01-01 02:00:00  10.423600\n",
              "2019-01-01 03:00:00  10.466386\n",
              "2019-01-01 04:00:00  10.426850\n",
              "...                        ...\n",
              "2019-01-31 19:00:00   5.192878\n",
              "2019-01-31 20:00:00   5.190868\n",
              "2019-01-31 21:00:00   5.185476\n",
              "2019-01-31 22:00:00   5.183853\n",
              "2019-01-31 23:00:00   5.153512\n",
              "\n",
              "[744 rows x 1 columns]"
            ],
            "text/html": [
              "\n",
              "  <div id=\"df-295a2809-d4a0-4ebe-8b4e-ef526cb9e2e6\">\n",
              "    <div class=\"colab-df-container\">\n",
              "      <div>\n",
              "<style scoped>\n",
              "    .dataframe tbody tr th:only-of-type {\n",
              "        vertical-align: middle;\n",
              "    }\n",
              "\n",
              "    .dataframe tbody tr th {\n",
              "        vertical-align: top;\n",
              "    }\n",
              "\n",
              "    .dataframe thead th {\n",
              "        text-align: right;\n",
              "    }\n",
              "</style>\n",
              "<table border=\"1\" class=\"dataframe\">\n",
              "  <thead>\n",
              "    <tr style=\"text-align: right;\">\n",
              "      <th></th>\n",
              "      <th>kWh</th>\n",
              "    </tr>\n",
              "    <tr>\n",
              "      <th>Time</th>\n",
              "      <th></th>\n",
              "    </tr>\n",
              "  </thead>\n",
              "  <tbody>\n",
              "    <tr>\n",
              "      <th>2019-01-01 00:00:00</th>\n",
              "      <td>10.425225</td>\n",
              "    </tr>\n",
              "    <tr>\n",
              "      <th>2019-01-01 01:00:00</th>\n",
              "      <td>10.420350</td>\n",
              "    </tr>\n",
              "    <tr>\n",
              "      <th>2019-01-01 02:00:00</th>\n",
              "      <td>10.423600</td>\n",
              "    </tr>\n",
              "    <tr>\n",
              "      <th>2019-01-01 03:00:00</th>\n",
              "      <td>10.466386</td>\n",
              "    </tr>\n",
              "    <tr>\n",
              "      <th>2019-01-01 04:00:00</th>\n",
              "      <td>10.426850</td>\n",
              "    </tr>\n",
              "    <tr>\n",
              "      <th>...</th>\n",
              "      <td>...</td>\n",
              "    </tr>\n",
              "    <tr>\n",
              "      <th>2019-01-31 19:00:00</th>\n",
              "      <td>5.192878</td>\n",
              "    </tr>\n",
              "    <tr>\n",
              "      <th>2019-01-31 20:00:00</th>\n",
              "      <td>5.190868</td>\n",
              "    </tr>\n",
              "    <tr>\n",
              "      <th>2019-01-31 21:00:00</th>\n",
              "      <td>5.185476</td>\n",
              "    </tr>\n",
              "    <tr>\n",
              "      <th>2019-01-31 22:00:00</th>\n",
              "      <td>5.183853</td>\n",
              "    </tr>\n",
              "    <tr>\n",
              "      <th>2019-01-31 23:00:00</th>\n",
              "      <td>5.153512</td>\n",
              "    </tr>\n",
              "  </tbody>\n",
              "</table>\n",
              "<p>744 rows × 1 columns</p>\n",
              "</div>\n",
              "      <button class=\"colab-df-convert\" onclick=\"convertToInteractive('df-295a2809-d4a0-4ebe-8b4e-ef526cb9e2e6')\"\n",
              "              title=\"Convert this dataframe to an interactive table.\"\n",
              "              style=\"display:none;\">\n",
              "        \n",
              "  <svg xmlns=\"http://www.w3.org/2000/svg\" height=\"24px\"viewBox=\"0 0 24 24\"\n",
              "       width=\"24px\">\n",
              "    <path d=\"M0 0h24v24H0V0z\" fill=\"none\"/>\n",
              "    <path d=\"M18.56 5.44l.94 2.06.94-2.06 2.06-.94-2.06-.94-.94-2.06-.94 2.06-2.06.94zm-11 1L8.5 8.5l.94-2.06 2.06-.94-2.06-.94L8.5 2.5l-.94 2.06-2.06.94zm10 10l.94 2.06.94-2.06 2.06-.94-2.06-.94-.94-2.06-.94 2.06-2.06.94z\"/><path d=\"M17.41 7.96l-1.37-1.37c-.4-.4-.92-.59-1.43-.59-.52 0-1.04.2-1.43.59L10.3 9.45l-7.72 7.72c-.78.78-.78 2.05 0 2.83L4 21.41c.39.39.9.59 1.41.59.51 0 1.02-.2 1.41-.59l7.78-7.78 2.81-2.81c.8-.78.8-2.07 0-2.86zM5.41 20L4 18.59l7.72-7.72 1.47 1.35L5.41 20z\"/>\n",
              "  </svg>\n",
              "      </button>\n",
              "      \n",
              "  <style>\n",
              "    .colab-df-container {\n",
              "      display:flex;\n",
              "      flex-wrap:wrap;\n",
              "      gap: 12px;\n",
              "    }\n",
              "\n",
              "    .colab-df-convert {\n",
              "      background-color: #E8F0FE;\n",
              "      border: none;\n",
              "      border-radius: 50%;\n",
              "      cursor: pointer;\n",
              "      display: none;\n",
              "      fill: #1967D2;\n",
              "      height: 32px;\n",
              "      padding: 0 0 0 0;\n",
              "      width: 32px;\n",
              "    }\n",
              "\n",
              "    .colab-df-convert:hover {\n",
              "      background-color: #E2EBFA;\n",
              "      box-shadow: 0px 1px 2px rgba(60, 64, 67, 0.3), 0px 1px 3px 1px rgba(60, 64, 67, 0.15);\n",
              "      fill: #174EA6;\n",
              "    }\n",
              "\n",
              "    [theme=dark] .colab-df-convert {\n",
              "      background-color: #3B4455;\n",
              "      fill: #D2E3FC;\n",
              "    }\n",
              "\n",
              "    [theme=dark] .colab-df-convert:hover {\n",
              "      background-color: #434B5C;\n",
              "      box-shadow: 0px 1px 3px 1px rgba(0, 0, 0, 0.15);\n",
              "      filter: drop-shadow(0px 1px 2px rgba(0, 0, 0, 0.3));\n",
              "      fill: #FFFFFF;\n",
              "    }\n",
              "  </style>\n",
              "\n",
              "      <script>\n",
              "        const buttonEl =\n",
              "          document.querySelector('#df-295a2809-d4a0-4ebe-8b4e-ef526cb9e2e6 button.colab-df-convert');\n",
              "        buttonEl.style.display =\n",
              "          google.colab.kernel.accessAllowed ? 'block' : 'none';\n",
              "\n",
              "        async function convertToInteractive(key) {\n",
              "          const element = document.querySelector('#df-295a2809-d4a0-4ebe-8b4e-ef526cb9e2e6');\n",
              "          const dataTable =\n",
              "            await google.colab.kernel.invokeFunction('convertToInteractive',\n",
              "                                                     [key], {});\n",
              "          if (!dataTable) return;\n",
              "\n",
              "          const docLinkHtml = 'Like what you see? Visit the ' +\n",
              "            '<a target=\"_blank\" href=https://colab.research.google.com/notebooks/data_table.ipynb>data table notebook</a>'\n",
              "            + ' to learn more about interactive tables.';\n",
              "          element.innerHTML = '';\n",
              "          dataTable['output_type'] = 'display_data';\n",
              "          await google.colab.output.renderOutput(dataTable, element);\n",
              "          const docLink = document.createElement('div');\n",
              "          docLink.innerHTML = docLinkHtml;\n",
              "          element.appendChild(docLink);\n",
              "        }\n",
              "      </script>\n",
              "    </div>\n",
              "  </div>\n",
              "  "
            ]
          },
          "metadata": {},
          "execution_count": 52
        }
      ]
    },
    {
      "cell_type": "code",
      "metadata": {
        "id": "j1ii5mpLmGl3",
        "colab": {
          "base_uri": "https://localhost:8080/"
        },
        "outputId": "c121f719-59f0-41d6-d153-504ff660e6cb"
      },
      "source": [
        "#Resampling the hourly consumption charges into daily by using the resample function and sum\n",
        "Daily_Cost = Hourly_Cost.resample(\"D\").sum()\n",
        "\n",
        "print(\"total cost\", Daily_Cost.sum())"
      ],
      "execution_count": 53,
      "outputs": [
        {
          "output_type": "stream",
          "name": "stdout",
          "text": [
            "total cost kWh    6099.404493\n",
            "dtype: float64\n"
          ]
        }
      ]
    },
    {
      "cell_type": "code",
      "metadata": {
        "colab": {
          "base_uri": "https://localhost:8080/",
          "height": 325
        },
        "id": "xycxvjz2cD0F",
        "outputId": "338b04b7-a111-4cb9-9fa8-a1a3dd2fc26c"
      },
      "source": [
        "fig, ax = plt.subplots(figsize=(16,5))\n",
        "ax2 = ax.twinx() # Create another axes that shares the same x-axis as ax.\n",
        "ax.plot(Daily_Cost, label= 'Daily price', color = 'tab:orange')\n",
        "ax2.plot(predicted, label='Hourly predicted consumption', color = 'tab:green')\n",
        "ax.set_ylabel('Daily Price [Euro]', size=15, color='orange')\n",
        "ax2.set_ylabel('Hourly Predicted consumption [kWh]',size=15, color='green')\n",
        "ax.set_xlabel('Time',size=15)\n",
        "fig.legend()"
      ],
      "execution_count": 54,
      "outputs": [
        {
          "output_type": "execute_result",
          "data": {
            "text/plain": [
              "<matplotlib.legend.Legend at 0x7f3eaf89e050>"
            ]
          },
          "metadata": {},
          "execution_count": 54
        },
        {
          "output_type": "display_data",
          "data": {
            "text/plain": [
              "<Figure size 1152x360 with 2 Axes>"
            ],
            "image/png": "[encoded data removed]"
          },
          "metadata": {
            "needs_background": "light"
          }
        }
      ]
    },
    {
      "cell_type": "markdown",
      "metadata": {
        "id": "0ZJjEulsbmDf"
      },
      "source": [
        "##Set a visual threshold in the forecast when the model predicts higher than a budget limit"
      ]
    },
    {
      "cell_type": "code",
      "metadata": {
        "id": "317SFwTcmGw-",
        "colab": {
          "base_uri": "https://localhost:8080/",
          "height": 359
        },
        "outputId": "95d62807-ad4d-4ee1-e976-7753885f2776"
      },
      "source": [
        "fig = plt.figure(figsize = (16,5)) # Create matplotlib figure\n",
        "ax = fig.add_subplot(111) # Create matplotlib axes\n",
        "Daily_Cost.plot(kind='bar', ax=ax, rot=0,color='green')\n",
        "ax.axhline(y=160, color='red', linestyle='--', label=\"Warning for over budget \")\n",
        "plt.text(17, 165, 'Warning for over budget', fontsize=12)\n",
        "\n",
        "ax.set_ylabel('Consumption', size=16, color='black')\n",
        "plt.xticks(rotation='vertical')\n",
        "ax.set_xticklabels([dt.strftime('%Y-%m-%d') for dt in Daily_Cost.index])\n",
        "fig.legend()"
      ],
      "execution_count": 55,
      "outputs": [
        {
          "output_type": "execute_result",
          "data": {
            "text/plain": [
              "<matplotlib.legend.Legend at 0x7f3eaf6a82d0>"
            ]
          },
          "metadata": {},
          "execution_count": 55
        },
        {
          "output_type": "display_data",
          "data": {
            "text/plain": [
              "<Figure size 1152x360 with 1 Axes>"
            ],
            "image/png": "[encoded data removed]"
          },
          "metadata": {
            "needs_background": "light"
          }
        }
      ]
    }
  ]
}